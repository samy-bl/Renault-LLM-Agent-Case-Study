{
  "nbformat": 4,
  "nbformat_minor": 0,
  "metadata": {
    "colab": {
      "provenance": []
    },
    "kernelspec": {
      "name": "python3",
      "display_name": "Python 3"
    },
    "language_info": {
      "name": "python"
    }
  },
  "cells": [
    {
      "cell_type": "markdown",
      "source": [
        "# Agent LLM Renault : Analyse de Données Stratégiques et Financières"
      ],
      "metadata": {
        "id": "TOJanwQN7GnI"
      }
    },
    {
      "cell_type": "markdown",
      "source": [
        "## Configuration Globale et Paramètres de Débogage\n",
        "Ce notebook vise à développer un agent LLM pour répondre à des questions en utilisant des données structurées et non structurées sur Renault."
      ],
      "metadata": {
        "id": "uFzlA7c6ARtB"
      }
    },
    {
      "cell_type": "code",
      "execution_count": 106,
      "metadata": {
        "id": "I1om6OaTvnaL"
      },
      "outputs": [],
      "source": [
        "# --- Paramètres Globaux de Débogage et d'Exécution ---\n",
        "\n",
        "# Mettez à True pour afficher les détails des chunks récupérés par l'outil RAG (knowledge_base_retriever)\n",
        "# Utile pour analyser la pertinence des informations fournies au LLM.\n",
        "DEBUG_SHOW_CHUNK_DETAILS = False\n",
        "\n",
        "# Mettez à True pour afficher les \"pensées\" et actions internes de l'agent (logs verbeux)\n",
        "# Utile pour comprendre le processus de décision de l'agent.\n",
        "SHOW_AGENT_THOUGHTS = False\n",
        "\n",
        "# Répertoire pour stocker les documents téléchargés (PDFs, transcriptions YouTube)\n",
        "DOCS_PATH = \"renault_documents\"\n",
        "\n",
        "# Chemin pour sauvegarder/charger l'index FAISS précalculé\n",
        "FAISS_INDEX_PATH = \"faiss_renault_index\"\n",
        "\n",
        "!pip install python-dotenv -q\n",
        "\n",
        "# Token API Hugging Face (sera demandé si non trouvé dans les variables d'environnement)\n",
        "from dotenv import load_dotenv\n",
        "import os\n",
        "\n",
        "# Charger les variables d'environnement à partir du fichier .env (s'il existe)\n",
        "load_dotenv()\n",
        "\n",
        "# Maintenant, vous pouvez essayer de récupérer le token depuis l'environnement\n",
        "HUGGINGFACEHUB_API_TOKEN = os.environ.get(\"HUGGINGFACEHUB_API_TOKEN\")\n",
        "# HUGGINGFACEHUB_API_TOKEN = \"hf_VOTRE_TOKEN_PERSONNEL_ICI\""
      ]
    },
    {
      "cell_type": "markdown",
      "source": [
        "## 1. Installation des Dépendances et Importations"
      ],
      "metadata": {
        "id": "L2czwGOuHlj4"
      }
    },
    {
      "cell_type": "code",
      "source": [
        "# --- 1.1 Installation des bibliothèques nécessaires ---\n",
        "print(\"⏳ Installation des bibliothèques...\")\n",
        "!pip install langchain langchain_community langchain_huggingface -q\n",
        "z!pip install yfinance -q\n",
        "!pip install pymupdf sentence-transformers faiss-cpu -q # PyMuPDF (fitz), SentenceTransformers, FAISS\n",
        "!pip install matplotlib pandas scipy -q\n",
        "!pip install transformers accelerate -q # Pour les modèles Hugging Face\n",
        "!pip install requests youtube-transcript-api -q # Pour le téléchargement de données\n",
        "print(\"✅ Installation des bibliothèques terminée.\")\n",
        "\n",
        "# --- 1.2 Importations principales ---\n",
        "import os\n",
        "import glob\n",
        "import re\n",
        "import json\n",
        "import ast # Pour ast.literal_eval\n",
        "from getpass import getpass\n",
        "\n",
        "import pandas as pd\n",
        "import numpy as np\n",
        "import yfinance as yf\n",
        "import fitz # PyMuPDF\n",
        "from youtube_transcript_api import YouTubeTranscriptApi, NoTranscriptFound\n",
        "import requests\n",
        "\n",
        "import matplotlib.pyplot as plt\n",
        "import matplotlib.dates as mdates\n",
        "from scipy.stats import pearsonr\n",
        "\n",
        "from langchain.text_splitter import RecursiveCharacterTextSplitter\n",
        "from langchain_community.document_loaders import PyMuPDFLoader, TextLoader\n",
        "from langchain_community.vectorstores import FAISS\n",
        "from langchain_huggingface import HuggingFaceEmbeddings, HuggingFaceEndpoint\n",
        "from langchain.agents import tool, AgentExecutor, create_react_agent\n",
        "from langchain import hub\n",
        "\n",
        "from IPython.display import Markdown, display, Image\n",
        "\n",
        "print(\"📚 Importations principales effectuées.\")"
      ],
      "metadata": {
        "colab": {
          "base_uri": "https://localhost:8080/"
        },
        "id": "Y9kU9FSUv1da",
        "outputId": "f689b1f9-b5af-4187-d66e-240c0dfb002e"
      },
      "execution_count": 100,
      "outputs": [
        {
          "output_type": "stream",
          "name": "stdout",
          "text": [
            "⏳ Installation des bibliothèques...\n",
            "✅ Installation des bibliothèques terminée.\n",
            "📚 Importations principales effectuées.\n"
          ]
        }
      ]
    },
    {
      "cell_type": "markdown",
      "source": [
        "## 2. Acquisition des Données"
      ],
      "metadata": {
        "id": "OmGk-J7r8MCH"
      }
    },
    {
      "cell_type": "code",
      "source": [
        "# --- 2.1 Définition des sources de données ---\n",
        "SOURCES = {\n",
        "    \"pdf\": {\n",
        "        \"Renault_DEU_2020.pdf\": \"https://www.renaultgroup.com/Document-denregistrement-universel-2020/files/assets/common/downloads/files/RENAULT2020-URD-FR-ecobook.pdf\",\n",
        "        \"Renault_DEU_2021.pdf\": \"https://www.bnains.org/archives/communiques/Renault/20220324_Document_d_enregistrement_universel_2021_Renault.pdf\",\n",
        "        \"Renault_DEU_2022.pdf\": \"https://assets.renaultgroup.com/uploads/2024/12/renault_deu_fr-2022.pdf\",\n",
        "        \"Renault_DEU_2023.pdf\": \"https://assets.renaultgroup.com/uploads/2024/10/renault_deu_2023_fr_01.pdf\",\n",
        "        \"Renault_DEU_2024.pdf\": \"https://assets.renaultgroup.com/uploads/2025/04/Renault_DEU_2024.pdf\",\n",
        "    },\n",
        "    \"youtube\": {\n",
        "        \"Plan_Renaulution_2021.txt\": \"https://www.youtube.com/watch?v=EtivAvmDr2Q\",\n",
        "        \"Conference_Resultats_2021.txt\": \"https://www.youtube.com/watch?v=VfIeaIFSCQA\", # FY 2021\n",
        "        \"Conference_Resultats_2022.txt\": \"https://www.youtube.com/watch?v=UWHlyjVtwT8\", # FY 2022\n",
        "        \"Conference_Resultats_2023.txt\": \"https://www.youtube.com/watch?v=B57wephix-w\", # FY 2023\n",
        "        \"Conference_Resultats_2024.txt\": \"https://www.youtube.com/watch?v=BA5ZOtWfpY0\", # FY 2024\n",
        "    }\n",
        "}\n",
        "os.makedirs(DOCS_PATH, exist_ok=True)\n",
        "print(f\"📁 Dossier pour les documents : '{DOCS_PATH}'\")\n",
        "\n",
        "# --- 2.2 Fonctions de téléchargement ---\n",
        "def download_pdf(url: str, filename: str):\n",
        "    \"\"\"Télécharge un fichier PDF depuis une URL et le sauvegarde localement.\"\"\"\n",
        "    filepath = os.path.join(DOCS_PATH, filename)\n",
        "    if os.path.exists(filepath):\n",
        "        print(f\"  ✅ Fichier PDF déjà présent : {filename}\")\n",
        "        return\n",
        "    try:\n",
        "        response = requests.get(url, stream=True, timeout=30)\n",
        "        response.raise_for_status()\n",
        "        with open(filepath, \"wb\") as f:\n",
        "            for chunk in response.iter_content(chunk_size=8192):\n",
        "                f.write(chunk)\n",
        "        print(f\"  📄 PDF téléchargé : {filename}\")\n",
        "    except requests.exceptions.RequestException as e:\n",
        "        print(f\"  ❌ Erreur de téléchargement (RequestException) pour {filename} depuis {url}: {e}\")\n",
        "    except Exception as e:\n",
        "        print(f\"  ❌ Erreur inattendue lors du téléchargement de {filename}: {e}\")\n",
        "\n",
        "def get_youtube_transcript(video_url: str, filename: str):\n",
        "    \"\"\"Extrait la transcription d'une vidéo YouTube et la sauvegarde en fichier texte.\"\"\"\n",
        "    filepath = os.path.join(DOCS_PATH, filename)\n",
        "    if os.path.exists(filepath):\n",
        "        print(f\"  ✅ Transcription déjà présente : {filename}\")\n",
        "        return\n",
        "\n",
        "    if not video_url or \"URL_YOUTUBE\" in video_url: # Vérifier si l'URL est un placeholder\n",
        "        print(f\"  ⚠️ URL YouTube non valide ou placeholder pour {filename}: {video_url}. Transcription ignorée.\")\n",
        "        return\n",
        "\n",
        "    try:\n",
        "        video_id = None\n",
        "        if \"v=\" in video_url:\n",
        "            video_id = video_url.split(\"v=\")[1].split(\"&\")[0]\n",
        "        elif \"youtu.be/\" in video_url:\n",
        "            video_id = video_url.split(\"youtu.be/\")[1].split(\"?\")[0]\n",
        "\n",
        "        if not video_id:\n",
        "            print(f\"  ❌ Impossible d'extraire l'ID vidéo de l'URL {video_url} pour {filename}.\")\n",
        "            return\n",
        "\n",
        "        transcript_list = YouTubeTranscriptApi.get_transcript(video_id, languages=['fr', 'en'])\n",
        "        transcript_text = \" \".join([item['text'] for item in transcript_list])\n",
        "        with open(filepath, \"w\", encoding=\"utf-8\") as f:\n",
        "            f.write(transcript_text)\n",
        "        print(f\"  🎤 Transcription sauvegardée : {filename}\")\n",
        "    except NoTranscriptFound:\n",
        "        print(f\"  ❌ Aucune transcription trouvée (fr/en) pour la vidéo {video_url} ({filename}).\")\n",
        "    except Exception as e:\n",
        "        print(f\"  ❌ Erreur d'extraction de transcription pour {filename} ({video_url}): {e}\")\n",
        "\n",
        "# --- 2.3 Exécution du téléchargement ---\n",
        "print(\"\\n--- ⏳ Lancement de l'acquisition des documents ---\")\n",
        "for filename, url in SOURCES[\"pdf\"].items():\n",
        "    download_pdf(url, filename)\n",
        "\n",
        "for filename, url in SOURCES[\"youtube\"].items():\n",
        "    get_youtube_transcript(url, filename)\n",
        "print(\"--- ✅ Acquisition des documents terminée ---\")\n",
        "\n",
        "# --- 2.4 Données boursières ---\n",
        "def fetch_stock_data(tickers: list, start_date: str, end_date: str) -> pd.DataFrame | None:\n",
        "    \"\"\"Télécharge les données boursières pour une liste de tickers.\"\"\"\n",
        "    print(f\"\\n⏳ Téléchargement des données boursières pour {tickers} de {start_date} à {end_date}...\")\n",
        "    try:\n",
        "        data = yf.download(tickers, start=start_date, end=end_date, progress=False)\n",
        "        if data.empty:\n",
        "            print(f\"  ⚠️ Aucune donnée retournée par yfinance pour {tickers} sur la période.\")\n",
        "            return None\n",
        "        print(f\"  📈 Données boursières téléchargées.\")\n",
        "        return data\n",
        "    except Exception as e:\n",
        "        print(f\"  ❌ Erreur lors du téléchargement des données boursières : {e}\")\n",
        "        return None\n",
        "\n",
        "current_date_str = pd.Timestamp.now().strftime('%Y-%m-%d')\n",
        "stock_data = fetch_stock_data(\n",
        "    tickers=['RNO.PA', '^FCHI'], # Ticker Renault et CAC40\n",
        "    start_date=\"2020-01-01\",\n",
        "    end_date=current_date_str\n",
        ")\n",
        "\n",
        "if stock_data is not None and not stock_data.empty:\n",
        "    print(\"\\n Aperçu des données boursières (prix de clôture) :\")\n",
        "    print(stock_data['Close'].head())\n",
        "else:\n",
        "    print(\"\\n⚠️ Aucune donnée boursière n'a été chargée. Les outils dépendant des actions pourraient ne pas fonctionner.\")"
      ],
      "metadata": {
        "colab": {
          "base_uri": "https://localhost:8080/"
        },
        "id": "jdfKwC3Lwdb9",
        "outputId": "b4ac0e59-e6ff-4b72-9fb1-73d5a1e306ca"
      },
      "execution_count": 102,
      "outputs": [
        {
          "output_type": "stream",
          "name": "stdout",
          "text": [
            "📁 Dossier pour les documents : 'renault_documents'\n",
            "\n",
            "--- ⏳ Lancement de l'acquisition des documents ---\n",
            "  📄 PDF téléchargé : Renault_DEU_2020.pdf\n",
            "  📄 PDF téléchargé : Renault_DEU_2021.pdf\n",
            "  📄 PDF téléchargé : Renault_DEU_2022.pdf\n",
            "  📄 PDF téléchargé : Renault_DEU_2023.pdf\n",
            "  📄 PDF téléchargé : Renault_DEU_2024.pdf\n",
            "  🎤 Transcription sauvegardée : Plan_Renaulution_2021.txt\n",
            "  🎤 Transcription sauvegardée : Conference_Resultats_2021.txt\n",
            "  🎤 Transcription sauvegardée : Conference_Resultats_2022.txt\n",
            "  🎤 Transcription sauvegardée : Conference_Resultats_2023.txt\n",
            "  🎤 Transcription sauvegardée : Conference_Resultats_2024.txt\n",
            "--- ✅ Acquisition des documents terminée ---\n",
            "\n",
            "⏳ Téléchargement des données boursières pour ['RNO.PA', '^FCHI'] de 2020-01-01 à 2025-06-01...\n",
            "  📈 Données boursières téléchargées.\n",
            "\n",
            " Aperçu des données boursières (prix de clôture) :\n",
            "Ticker         RNO.PA        ^FCHI\n",
            "Date                              \n",
            "2020-01-02  38.165432  6041.500000\n",
            "2020-01-03  37.546040  6044.160156\n",
            "2020-01-06  37.664455  6013.589844\n",
            "2020-01-07  38.994324  6012.350098\n",
            "2020-01-08  38.834915  6031.000000\n"
          ]
        }
      ]
    },
    {
      "cell_type": "markdown",
      "source": [
        "## 3. Traitement des Documents et Création de la Base Vectorielle (RAG)\n",
        "\n"
      ],
      "metadata": {
        "id": "wmcEaPjA9fNi"
      }
    },
    {
      "cell_type": "code",
      "source": [
        "# --- 3.1 Initialisation du modèle d'embedding ---\n",
        "# Ce modèle est utilisé pour vectoriser les documents et les requêtes.\n",
        "print(\"⏳ Initialisation du modèle d'embedding...\")\n",
        "embedding_model_name = \"sentence-transformers/paraphrase-multilingual-MiniLM-L12-v2\"\n",
        "embeddings_model = HuggingFaceEmbeddings(model_name=embedding_model_name)\n",
        "print(f\"✅ Modèle d'embedding '{embedding_model_name}' chargé.\")\n",
        "\n",
        "# --- 3.2 Chargement ou Création de l'Index FAISS ---\n",
        "loaded_vector_store = None\n",
        "\n",
        "if os.path.exists(FAISS_INDEX_PATH) and os.path.isdir(FAISS_INDEX_PATH):\n",
        "    print(f\"\\n⏳ Tentative de chargement de l'index FAISS existant depuis '{FAISS_INDEX_PATH}'...\")\n",
        "    try:\n",
        "        loaded_vector_store = FAISS.load_local(\n",
        "            FAISS_INDEX_PATH,\n",
        "            embeddings_model,\n",
        "            allow_dangerous_deserialization=True\n",
        "        )\n",
        "        print(\"✅ Index FAISS existant chargé avec succès.\")\n",
        "    except Exception as e:\n",
        "        print(f\"❌ Erreur lors du chargement de l'index FAISS existant: {e}. L'index sera recréé.\")\n",
        "        loaded_vector_store = None\n",
        "else:\n",
        "    print(f\"\\nℹ️ Aucun index FAISS existant trouvé à '{FAISS_INDEX_PATH}'. L'index sera créé.\")\n",
        "\n",
        "if loaded_vector_store is None:\n",
        "    print(\"\\n⏳ Création d'un nouvel index FAISS...\")\n",
        "\n",
        "    print(\"  Étape 1/4 : Chargement des documents...\")\n",
        "    all_docs = []\n",
        "    if not os.path.exists(DOCS_PATH):\n",
        "        print(f\"   ❌ ERREUR: Dossier des documents '{DOCS_PATH}' introuvable. Impossible de créer l'index.\")\n",
        "    else:\n",
        "        doc_path_pattern = os.path.join(DOCS_PATH, \"*\")\n",
        "        file_paths = glob.glob(doc_path_pattern)\n",
        "        if not file_paths:\n",
        "            print(f\"   ⚠️ Aucun fichier trouvé dans '{DOCS_PATH}'.\")\n",
        "\n",
        "        for file_path in file_paths:\n",
        "            try:\n",
        "                filename = os.path.basename(file_path)\n",
        "                if file_path.lower().endswith(\".pdf\"):\n",
        "                    print(f\"      -> Chargement PDF : {filename}\")\n",
        "                    loader = PyMuPDFLoader(file_path)\n",
        "                    docs = loader.load()\n",
        "                elif file_path.lower().endswith(\".txt\"):\n",
        "                    print(f\"      -> Chargement TXT : {filename}\")\n",
        "                    loader = TextLoader(file_path, encoding='utf-8')\n",
        "                    docs = loader.load()\n",
        "                else:\n",
        "                    docs = [] # Ignorer autres types de fichiers\n",
        "\n",
        "                # Ajouter le nom du fichier comme métadonnée principale si manquant\n",
        "                for doc in docs:\n",
        "                    if 'source' not in doc.metadata:\n",
        "                        doc.metadata['source'] = file_path\n",
        "                    doc.metadata['filename'] = filename # Pour un accès plus simple\n",
        "                all_docs.extend(docs)\n",
        "            except Exception as e:\n",
        "                print(f\"      ⚠️ Erreur lors du chargement de {filename}: {e}\")\n",
        "\n",
        "    if not all_docs:\n",
        "        print(\"\\n   ❌ Aucun document n'a pu être chargé. L'index FAISS ne sera pas créé.\")\n",
        "    else:\n",
        "        print(f\"\\n   ✅ {len(all_docs)} pages/documents chargés.\")\n",
        "\n",
        "        print(\"\\n  Étape 2/4 : Découpage des documents en 'chunks'...\")\n",
        "        text_splitter = RecursiveCharacterTextSplitter(\n",
        "            chunk_size=1000,\n",
        "            chunk_overlap=200,\n",
        "            length_function=len,\n",
        "            add_start_index=True\n",
        "        )\n",
        "        chunks = text_splitter.split_documents(all_docs)\n",
        "        print(f\"   ✅ Documents découpés en {len(chunks)} 'chunks'.\")\n",
        "\n",
        "        if not chunks:\n",
        "            print(\"   ❌ Aucun 'chunk' n'a été créé. Impossible de construire l'index FAISS.\")\n",
        "        else:\n",
        "            print(\"\\n  Étape 3/4 : Création des embeddings et de la base vectorielle FAISS...\")\n",
        "            loaded_vector_store = FAISS.from_documents(chunks, embeddings_model)\n",
        "            print(\"   ✅ Base vectorielle créée.\")\n",
        "\n",
        "            print(f\"\\n  Étape 4/4 : Sauvegarde de la base vectorielle dans '{FAISS_INDEX_PATH}'...\")\n",
        "            try:\n",
        "                loaded_vector_store.save_local(FAISS_INDEX_PATH)\n",
        "                print(f\"   💾 Base vectorielle sauvegardée.\")\n",
        "            except Exception as e:\n",
        "                print(f\"   ❌ Erreur lors de la sauvegarde de l'index FAISS : {e}\")\n",
        "\n",
        "# --- 3.3 Test Optionnel de la Base Vectorielle ---\n",
        "if loaded_vector_store:\n",
        "    print(\"\\n⏳ Test de la base vectorielle (chargée ou nouvellement créée)...\")\n",
        "    try:\n",
        "        test_query = \"Qu'est-ce que le plan Renaulution ?\"\n",
        "        test_results = loaded_vector_store.similarity_search(test_query, k=2)\n",
        "        print(f\"\\n  🔍 Résultats de recherche pour '{test_query}':\")\n",
        "        if test_results:\n",
        "            for i, doc in enumerate(test_results):\n",
        "                print(f\"    --- Résultat {i+1} ---\")\n",
        "                print(f\"    Source: {doc.metadata.get('filename', doc.metadata.get('source', 'N/A'))}\")\n",
        "                # print(f\"    Contenu: {doc.page_content[:300]}...\")\n",
        "        else:\n",
        "            print(\"    Aucun résultat trouvé.\")\n",
        "    except Exception as e:\n",
        "        print(f\"  ❌ Erreur lors du test de la base vectorielle : {e}\")\n",
        "else:\n",
        "    print(\"\\n❌ Base vectorielle non disponible. Le RAG ne fonctionnera pas.\")"
      ],
      "metadata": {
        "colab": {
          "base_uri": "https://localhost:8080/"
        },
        "id": "zOJTCsmq2-pP",
        "outputId": "5459b22b-a649-465c-ed69-4d8023ba2e90"
      },
      "execution_count": 103,
      "outputs": [
        {
          "output_type": "stream",
          "name": "stdout",
          "text": [
            "⏳ Initialisation du modèle d'embedding...\n",
            "✅ Modèle d'embedding 'sentence-transformers/paraphrase-multilingual-MiniLM-L12-v2' chargé.\n",
            "\n",
            "ℹ️ Aucun index FAISS existant trouvé à 'faiss_renault_index'. L'index sera créé.\n",
            "\n",
            "⏳ Création d'un nouvel index FAISS...\n",
            "  Étape 1/4 : Chargement des documents...\n",
            "      -> Chargement TXT : Conference_Resultats_2024.txt\n",
            "      -> Chargement TXT : Conference_Resultats_2023.txt\n",
            "      -> Chargement PDF : Renault_DEU_2020.pdf\n",
            "      -> Chargement PDF : Renault_DEU_2022.pdf\n",
            "      -> Chargement TXT : Conference_Resultats_2022.txt\n",
            "      -> Chargement PDF : Renault_DEU_2023.pdf\n",
            "      -> Chargement TXT : Plan_Renaulution_2021.txt\n",
            "      -> Chargement TXT : Conference_Resultats_2021.txt\n",
            "      -> Chargement PDF : Renault_DEU_2021.pdf\n",
            "      -> Chargement PDF : Renault_DEU_2024.pdf\n",
            "\n",
            "   ✅ 2780 pages/documents chargés.\n",
            "\n",
            "  Étape 2/4 : Découpage des documents en 'chunks'...\n",
            "   ✅ Documents découpés en 15081 'chunks'.\n",
            "\n",
            "  Étape 3/4 : Création des embeddings et de la base vectorielle FAISS...\n",
            "   ✅ Base vectorielle créée.\n",
            "\n",
            "  Étape 4/4 : Sauvegarde de la base vectorielle dans 'faiss_renault_index'...\n",
            "   💾 Base vectorielle sauvegardée.\n",
            "\n",
            "⏳ Test de la base vectorielle (chargée ou nouvellement créée)...\n",
            "\n",
            "  🔍 Résultats de recherche pour 'Qu'est-ce que le plan Renaulution ?':\n",
            "    --- Résultat 1 ---\n",
            "    Source: Renault_DEU_2022.pdf\n",
            "    --- Résultat 2 ---\n",
            "    Source: Renault_DEU_2021.pdf\n"
          ]
        }
      ]
    },
    {
      "cell_type": "markdown",
      "source": [
        "## 4. Création des Outils"
      ],
      "metadata": {
        "id": "eQz_JucUAx83"
      }
    },
    {
      "cell_type": "code",
      "source": [
        "# --- Outils pour l'Agent ---\n",
        "@tool\n",
        "def knowledge_base_retriever(tool_input: str) -> str:\n",
        "    \"\"\"\n",
        "    Interroge la base de connaissances (documents Renault) pour trouver des informations pertinentes.\n",
        "    Retourne les extraits les plus significatifs.\n",
        "    Pour cibler une année, l'Action Input peut être une chaîne JSON contenant les clés \"query\" et \"target_year\".\n",
        "    Exemple pour une année spécifique: '{\"query\": \"membres conseil administration 2021\", \"target_year\": \"2021\"}'\n",
        "    Exemple pour une requête générale: \"plan Renaulution objectifs\"\n",
        "    \"\"\"\n",
        "    global DEBUG_SHOW_CHUNK_DETAILS\n",
        "    print(f\"🛠️ Outil 'knowledge_base_retriever' appelé avec tool_input: {repr(tool_input)}\")\n",
        "\n",
        "    query_str = \"\"\n",
        "    target_year = None\n",
        "    cleaned_input = \"\" # Pour le logging d'erreur\n",
        "\n",
        "    try:\n",
        "        if isinstance(tool_input, str):\n",
        "            cleaned_input = tool_input.strip()\n",
        "            obs_marker = \"\\nObservation\"\n",
        "            if obs_marker in cleaned_input: # Gérer lva contamination\n",
        "                cleaned_input = cleaned_input.split(obs_marker, 1)[0].strip()\n",
        "            if cleaned_input.startswith(\"'\") and cleaned_input.endswith(\"'\"):\n",
        "                cleaned_input = cleaned_input[1:-1]\n",
        "        else: # Si ce n'est pas une chaîne, c'est une erreur d'appel\n",
        "            return f\"Erreur: tool_input doit être une chaîne, reçu {type(tool_input)}\"\n",
        "\n",
        "        try: # Essayer de parser comme JSON\n",
        "            data = json.loads(cleaned_input)\n",
        "            if isinstance(data, dict):\n",
        "                query_str = data.get(\"query\", \"\")\n",
        "                target_year = data.get(\"target_year\")\n",
        "                print(f\"   ℹ️ Input parsé comme JSON. Query: '{query_str}', Target Year: {target_year}\")\n",
        "            else: # JSON valide mais pas un dict\n",
        "                query_str = cleaned_input\n",
        "                print(f\"   ℹ️ Input parsé comme JSON mais n'est pas un dict. Utilisation de l'input entier comme query: '{query_str}'\")\n",
        "        except (json.JSONDecodeError, TypeError): # Pas un JSON valide, traiter comme une simple chaîne\n",
        "            query_str = cleaned_input\n",
        "            year_match = re.search(r'\\b(2019|2020|2021|2022|2023|2024|2025)\\b', query_str)\n",
        "            if year_match:\n",
        "                target_year = year_match.group(1)\n",
        "            print(f\"   ℹ️ Input traité comme chaîne simple. Query: '{query_str}', Année détectée (si présente): {target_year}\")\n",
        "\n",
        "        if not query_str:\n",
        "            return \"Erreur: La requête (query) pour knowledge_base_retriever est vide après parsing.\"\n",
        "\n",
        "        if 'loaded_vector_store' not in globals() or loaded_vector_store is None:\n",
        "            return \"Erreur: La base de données vectorielle 'loaded_vector_store' n'est pas chargée.\"\n",
        "\n",
        "        k_retrieval = 7\n",
        "        num_to_fetch = k_retrieval * 2 if target_year else k_retrieval\n",
        "\n",
        "        all_results_with_scores = loaded_vector_store.similarity_search_with_score(query_str, k=num_to_fetch)\n",
        "\n",
        "        if not all_results_with_scores:\n",
        "            return \"Aucune information pertinente trouvée pour cette requête.\"\n",
        "\n",
        "        final_results_to_consider = []\n",
        "        if target_year:\n",
        "            print(f\"   Filtrage des résultats pour l'année cible : {target_year} (parmi les {len(all_results_with_scores)} chunks récupérés)\")\n",
        "            for doc, score in all_results_with_scores:\n",
        "                source_name = os.path.basename(doc.metadata.get('filename', doc.metadata.get('source', 'N/A')))\n",
        "                if target_year in source_name:\n",
        "                    final_results_to_consider.append((doc, score))\n",
        "\n",
        "            if not final_results_to_consider and all_results_with_scores:\n",
        "                 print(f\"   ⚠️ Aucun résultat après filtrage strict pour {target_year}. Utilisation des {k_retrieval} meilleurs résultats globaux.\")\n",
        "                 final_results_to_consider = all_results_with_scores[:k_retrieval]\n",
        "            elif final_results_to_consider: # Si on a des résultats filtrés, on les prend, jusqu'à k_retrieval\n",
        "                final_results_to_consider = sorted(final_results_to_consider, key=lambda x: x[1])[:k_retrieval]\n",
        "        else:\n",
        "            final_results_to_consider = sorted(all_results_with_scores, key=lambda x: x[1])[:k_retrieval]\n",
        "\n",
        "        if not final_results_to_consider:\n",
        "             return \"Aucune information pertinente trouvée après application des filtres ou globalement.\"\n",
        "\n",
        "        contexts_for_llm = []\n",
        "        sources_set = set()\n",
        "        actual_scores_of_filtered_docs = []\n",
        "\n",
        "        if DEBUG_SHOW_CHUNK_DETAILS:\n",
        "            print(f\"\\n    Affichage des {len(final_results_to_consider)} chunks finaux pour la requête: '{query_str}' (année: {target_year})\")\n",
        "            print(\"\\n=== DÉTAILS DES CHUNKS RÉCUPÉRÉS POUR ANALYSE ===\\n\")\n",
        "\n",
        "        for i, (doc_obj, score) in enumerate(final_results_to_consider):\n",
        "            source_name = os.path.basename(doc_obj.metadata.get('filename', doc_obj.metadata.get('source', 'N/A')))\n",
        "            sources_set.add(source_name)\n",
        "            contexts_for_llm.append(doc_obj.page_content)\n",
        "            actual_scores_of_filtered_docs.append(score)\n",
        "\n",
        "            if DEBUG_SHOW_CHUNK_DETAILS:\n",
        "                # ... (affichage des chunks comme dans votre version)\n",
        "                chunk_info = (\n",
        "                    f\"--- Chunk {i+1} (Source: {source_name}, Score de distance L2 : {score:.4f}) ---\\n\"\n",
        "                    f\"Contenu du Chunk:\\n{doc_obj.page_content[:500]}...\\n\" # Limiter la longueur pour le log\n",
        "                    f\"Métadonnées du Chunk: {doc_obj.metadata}\\n\"\n",
        "                )\n",
        "                print(chunk_info)\n",
        "\n",
        "        if DEBUG_SHOW_CHUNK_DETAILS:\n",
        "            print(\"=== FIN DES DÉTAILS DES CHUNKS ===\\n\")\n",
        "\n",
        "        final_context_for_llm = \"\\n\\n---\\n\\n\".join(contexts_for_llm)\n",
        "        final_sources_str = \", \".join(sorted(list(sources_set)))\n",
        "        scores_str = \", \".join([f\"{s:.2f}\" for s in actual_scores_of_filtered_docs])\n",
        "\n",
        "        print(f\"   ℹ️ Sources RAG finales fournies au LLM pour '{query_str}': {final_sources_str}\")\n",
        "\n",
        "        return (f\"Informations trouvées (sources: {final_sources_str}; scores L2: {scores_str}):\\n{final_context_for_llm}\")\n",
        "\n",
        "    except Exception as e:\n",
        "        import traceback\n",
        "        print(f\"❌ Erreur détaillée dans knowledge_base_retriever pour l'input '{repr(tool_input)}': {traceback.format_exc()}\")\n",
        "        return f\"Erreur lors de la recherche: {type(e).__name__} - {e}\"\n",
        "\n",
        "@tool\n",
        "def get_stock_price_on_date(ticker: str, date_str: str) -> str:\n",
        "    \"\"\"\n",
        "    Récupère le prix de clôture d'une action (ex: 'RNO.PA', '^FCHI') à une date spécifique.\n",
        "    La date doit être au format 'YYYY-MM-DD'.\n",
        "    \"\"\"\n",
        "    print(f\"🛠️ Outil 'get_stock_price_on_date' appelé pour {ticker} le {date_str}\")\n",
        "    if 'stock_data' not in globals() or stock_data is None or stock_data.empty:\n",
        "        return \"Erreur: Les données boursières (`stock_data`) ne sont pas chargées ou sont vides.\"\n",
        "    try:\n",
        "        date_obj = pd.to_datetime(date_str)\n",
        "        actual_date_in_index = stock_data.index.asof(date_obj)\n",
        "\n",
        "        if pd.isna(actual_date_in_index):\n",
        "             return f\"Aucune donnée boursière trouvée avant ou à la date {date_str} pour {ticker}.\"\n",
        "\n",
        "        price = stock_data.loc[actual_date_in_index, ('Close', ticker)]\n",
        "\n",
        "        if pd.isna(price):\n",
        "            return f\"Aucun prix de clôture trouvé pour {ticker} à la date la plus proche ({actual_date_in_index.strftime('%Y-%m-%d')}) de {date_str} (donnée manquante).\"\n",
        "        return f\"Le prix de clôture de {ticker} le {actual_date_in_index.strftime('%Y-%m-%d')} était de {price:.2f} EUR.\"\n",
        "    except KeyError:\n",
        "        available_tickers = []\n",
        "        if isinstance(stock_data.columns, pd.MultiIndex):\n",
        "            available_tickers = list(set(c[1] for c in stock_data.columns if c[0] == 'Close'))\n",
        "        return f\"Ticker '{ticker}' non trouvé parmi les colonnes 'Close'. Tickers disponibles: {available_tickers}\"\n",
        "    except Exception as e:\n",
        "        return f\"Erreur lors de la récupération du prix pour {ticker} le {date_str}: {e}\"\n",
        "\n",
        "@tool\n",
        "def plot_vehicle_sales(sales_data_input: str) -> str:\n",
        "    \"\"\"\n",
        "    Crée un graphique à barres illustrant le nombre de véhicules vendus par année.\n",
        "    L'entrée doit être une chaîne de caractères représentant un dictionnaire Python,\n",
        "    ex: \"{'2020': 2950000, '2021': 2700000}\".\n",
        "    L'agent doit d'abord utiliser 'knowledge_base_retriever' pour obtenir ces chiffres.\n",
        "    \"\"\"\n",
        "    print(f\"🛠️ Outil 'plot_vehicle_sales' appelé.\")\n",
        "    print(f\"   ➡️ Reçu sales_data_input (type {type(sales_data_input)}): {repr(sales_data_input)}\")\n",
        "\n",
        "    sales_data_str_cleaned = \"\"\n",
        "    if isinstance(sales_data_input, str):\n",
        "        raw_input_str = sales_data_input\n",
        "    elif isinstance(sales_data_input, dict) and 'sales_data_str' in sales_data_input : # Si LLM passe un dict\n",
        "        raw_input_str = sales_data_input['sales_data_str']\n",
        "        if not isinstance(raw_input_str, str):\n",
        "             return f\"Erreur: 'sales_data_str' dans le dict d'entrée doit être une chaîne.\"\n",
        "    else:\n",
        "        return f\"Erreur: L'entrée doit être une chaîne (représentant un dict) ou un dict avec la clé 'sales_data_str'. Reçu : {type(sales_data_input)}\"\n",
        "\n",
        "    obs_marker = \"\\nObservation\"\n",
        "    if obs_marker in raw_input_str:\n",
        "        sales_data_str_cleaned = raw_input_str.split(obs_marker, 1)[0]\n",
        "    else:\n",
        "        sales_data_str_cleaned = raw_input_str\n",
        "    sales_data_str_cleaned = sales_data_str_cleaned.strip()\n",
        "\n",
        "    if sales_data_str_cleaned.startswith(\"'\") and sales_data_str_cleaned.endswith(\"'\"):\n",
        "        sales_data_str_cleaned = sales_data_str_cleaned[1:-1]\n",
        "\n",
        "    print(f\"   ➡️ Chaîne à évaluer (sales_data_str_cleaned): {repr(sales_data_str_cleaned)}\")\n",
        "\n",
        "    try:\n",
        "        sales_data = ast.literal_eval(sales_data_str_cleaned)\n",
        "        if not isinstance(sales_data, dict):\n",
        "            return \"Erreur: Les données de ventes après évaluation ne forment pas un dictionnaire.\"\n",
        "\n",
        "        years = sorted([str(y) for y in sales_data.keys()]) # Assurer que les années sont des chaînes pour l'axe X\n",
        "        values = [float(sales_data[year]) for year in years]\n",
        "\n",
        "        plt.figure(figsize=(10, 6))\n",
        "        plt.bar(years, values, color='skyblue')\n",
        "        plt.xlabel(\"Année\")\n",
        "        plt.ylabel(\"Nombre de véhicules vendus\")\n",
        "        plt.title(\"Ventes de véhicules Groupe Renault par année\")\n",
        "        plt.xticks(years)\n",
        "\n",
        "        max_val = max(values) if values else 0\n",
        "        for i, v_val in enumerate(values):\n",
        "            display_val = f\"{v_val/1000000:.2f}M\" if v_val >= 100000 else str(int(v_val))\n",
        "            offset = 0.02 * max_val if max_val > 0 else 0.02 * v_val\n",
        "            plt.text(years[i], v_val + offset, display_val, ha='center', va='bottom') # Utiliser years[i] pour l'abscisse du texte\n",
        "\n",
        "        plot_filename = \"ventes_vehicules_par_an.png\"\n",
        "        plt.savefig(plot_filename)\n",
        "        plt.close()\n",
        "        return f\"Graphique des ventes de véhicules sauvegardé sous '{plot_filename}'. Il illustre les ventes pour les années {', '.join(years)}.\"\n",
        "    except SyntaxError as se:\n",
        "        return f\"Erreur de syntaxe lors de l'évaluation des données de ventes '{sales_data_str_cleaned}': {se}.\"\n",
        "    except Exception as e:\n",
        "        return f\"Erreur inattendue lors de la création du graphique des ventes : {e}\"\n",
        "\n",
        "@tool\n",
        "def plot_stock_vs_cac40_on_announcement_days(dates_input_raw: str) -> str:\n",
        "    \"\"\"\n",
        "    Crée un graphique comparant le cours de l'action Renault (RNO.PA) et la performance\n",
        "    du CAC40 les jours d'annonce de résultats depuis 2020.\n",
        "    L'entrée doit être une chaîne de caractères représentant une liste de dates (ex: \"['2021-02-19', '2022-02-18']\")\n",
        "    OU une chaîne JSON représentant un dictionnaire avec la clé \"announcement_dates_str\"\n",
        "    (ex: '{\"announcement_dates_str\": \"['2021-02-19', '2022-02-18']\"}').\n",
        "    \"\"\"\n",
        "    print(f\"🛠️ Outil 'plot_stock_vs_cac40_on_announcement_days' appelé.\")\n",
        "    print(f\"   ➡️ Reçu dates_input_raw (type {type(dates_input_raw)}): {repr(dates_input_raw)}\")\n",
        "\n",
        "    if not isinstance(dates_input_raw, str):\n",
        "        return f\"Erreur: L'entrée doit être une chaîne, mais reçu type {type(dates_input_raw)}\"\n",
        "\n",
        "    cleaned_input_str = dates_input_raw\n",
        "    obs_marker = \"\\nObservation\"\n",
        "    if obs_marker in cleaned_input_str:\n",
        "        cleaned_input_str = cleaned_input_str.split(obs_marker, 1)[0]\n",
        "    cleaned_input_str = cleaned_input_str.strip()\n",
        "\n",
        "    if cleaned_input_str.startswith(\"'\") and cleaned_input_str.endswith(\"'\"):\n",
        "        cleaned_input_str = cleaned_input_str[1:-1]\n",
        "    print(f\"   ➡️ Chaîne nettoyée (cleaned_input_str) pour évaluation initiale: {repr(cleaned_input_str)}\")\n",
        "\n",
        "    actual_list_str = None\n",
        "    announcement_dates_list = []\n",
        "\n",
        "    try:\n",
        "        # Essayer de déterminer si c'est une chaîne de dict ou une chaîne de liste\n",
        "        if cleaned_input_str.startswith(\"{\") and cleaned_input_str.endswith(\"}\"):\n",
        "            potential_dict = ast.literal_eval(cleaned_input_str)\n",
        "            if isinstance(potential_dict, dict) and 'announcement_dates_str' in potential_dict:\n",
        "                actual_list_str = potential_dict['announcement_dates_str']\n",
        "                if not isinstance(actual_list_str, str):\n",
        "                    return f\"Erreur: 'announcement_dates_str' dans le JSON d'entrée doit être une chaîne de liste.\"\n",
        "            else: # JSON valide mais pas le format attendu\n",
        "                 return f\"Erreur: JSON d'entrée non conforme, attendu clé 'announcement_dates_str'. Reçu: {repr(potential_dict)}\"\n",
        "        elif cleaned_input_str.startswith(\"[\") and cleaned_input_str.endswith(\"]\"):\n",
        "            actual_list_str = cleaned_input_str # C'était déjà la chaîne de la liste\n",
        "        else:\n",
        "            return f\"Erreur: L'entrée des dates n'est pas un format de liste ou de JSON de liste attendu. String nettoyée: {repr(cleaned_input_str)}\"\n",
        "\n",
        "        if actual_list_str is None:\n",
        "            return f\"Erreur: Impossible d'extraire la chaîne de la liste de dates à partir de: {repr(cleaned_input_str)}\"\n",
        "\n",
        "        # Nettoyer actual_list_str aussi\n",
        "        actual_list_str = actual_list_str.strip()\n",
        "        if actual_list_str.startswith(\"'\") and actual_list_str.endswith(\"'\"):\n",
        "                actual_list_str = actual_list_str[1:-1]\n",
        "        print(f\"   ➡️ Chaîne de la liste de dates à évaluer (actual_list_str): {repr(actual_list_str)}\")\n",
        "\n",
        "        announcement_dates_list = ast.literal_eval(actual_list_str)\n",
        "\n",
        "        if not isinstance(announcement_dates_list, list):\n",
        "            return f\"Erreur: Les dates parsées ne forment pas une liste: {repr(announcement_dates_list)}\"\n",
        "\n",
        "        announcement_dates = [pd.to_datetime(date_str) for date_str in announcement_dates_list] # Renommé 'date' en 'date_str'\n",
        "        announcement_dates = sorted([d for d in announcement_dates if pd.notna(d) and d >= pd.to_datetime(\"2020-01-01\")])\n",
        "\n",
        "\n",
        "        if 'stock_data' not in globals() or stock_data is None or stock_data.empty:\n",
        "            return \"Erreur: Les données boursières (`stock_data`) ne sont pas chargées ou sont vides.\"\n",
        "        if not announcement_dates:\n",
        "            return \"Aucune date d'annonce valide (post 2020-01-01 et convertible en date) fournie ou extraite.\"\n",
        "\n",
        "        relevant_data = stock_data.reindex(pd.to_datetime(announcement_dates), method='ffill')\n",
        "        if relevant_data.empty:\n",
        "            return \"Aucune donnée boursière trouvée pour les dates d'annonce spécifiées après reindexation.\"\n",
        "\n",
        "        renault_prices = relevant_data.get(('Close', 'RNO.PA')) # Utiliser .get pour éviter KeyError si colonne absente\n",
        "        cac40_prices = relevant_data.get(('Close', '^FCHI'))\n",
        "\n",
        "        if renault_prices is None or cac40_prices is None or renault_prices.empty or cac40_prices.empty or \\\n",
        "           pd.isna(renault_prices.iloc[0]) or renault_prices.iloc[0] == 0 or \\\n",
        "           pd.isna(cac40_prices.iloc[0]) or cac40_prices.iloc[0] == 0:\n",
        "            missing_info = []\n",
        "            if renault_prices is None or renault_prices.empty or pd.isna(renault_prices.iloc[0]) or renault_prices.iloc[0] == 0: missing_info.append(\"RNO.PA\")\n",
        "            if cac40_prices is None or cac40_prices.empty or pd.isna(cac40_prices.iloc[0]) or cac40_prices.iloc[0] == 0: missing_info.append(\"CAC40\")\n",
        "            return f\"Données boursières insuffisantes ou nulles pour {', '.join(missing_info)} aux dates d'annonce pour la normalisation.\"\n",
        "\n",
        "        # S'assurer que les index sont bien des DatetimeIndex pour le plot\n",
        "        renault_prices.index = pd.to_datetime(renault_prices.index)\n",
        "        cac40_prices.index = pd.to_datetime(cac40_prices.index)\n",
        "\n",
        "        renault_normalized = (renault_prices / renault_prices.iloc[0] * 100).ffill()\n",
        "        cac40_normalized = (cac40_prices / cac40_prices.iloc[0] * 100).ffill()\n",
        "\n",
        "        plt.figure(figsize=(12, 7))\n",
        "        plt.plot(renault_normalized.index, renault_normalized, label='Renault (RNO.PA) Normalisé', marker='o')\n",
        "        plt.plot(cac40_normalized.index, cac40_normalized, label='CAC40 (^FCHI) Normalisé', marker='x')\n",
        "        plt.xlabel(\"Date d'annonce des résultats\")\n",
        "        plt.ylabel(\"Performance normalisée (Base 100)\")\n",
        "        plt.title(\"Performance Renault vs CAC40 les jours d'annonce de résultats\")\n",
        "        plt.legend()\n",
        "        plt.grid(True)\n",
        "        plt.xticks(rotation=45)\n",
        "        plt.tight_layout()\n",
        "        plot_filename = \"renault_vs_cac40_annonces.png\"\n",
        "        plt.savefig(plot_filename)\n",
        "        plt.close()\n",
        "        return f\"Graphique comparatif Renault vs CAC40 sauvegardé sous '{plot_filename}'. Données normalisées à 100 au premier jour d'annonce.\"\n",
        "    except SyntaxError as se:\n",
        "        err_actual_list_str = repr(actual_list_str) if actual_list_str is not None else 'Non défini (erreur avant extraction)'\n",
        "        return f\"Erreur de syntaxe lors de l'évaluation (cleaned_input_str: '{repr(cleaned_input_str)}', actual_list_str: '{err_actual_list_str}'): {se}.\"\n",
        "    except Exception as e:\n",
        "        return f\"Erreur inattendue dans plot_stock_vs_cac40: {type(e).__name__} - {e}\"\n",
        "\n",
        "@tool\n",
        "def analyze_sales_stock_correlation(json_input_str: str) -> str:\n",
        "    \"\"\"\n",
        "    Analyse la corrélation entre les ventes annuelles de Renault et le cours de son action (RNO.PA)\n",
        "    les jours d'annonce de résultats, depuis 2020.\n",
        "    L'Action Input DOIT être un JSON string valide contenant les clés \"sales_data_str\" et \"announcement_dates_str\".\n",
        "    Exemple: '{\"sales_data_str\": \"{'2020': 2950000}\", \"announcement_dates_str\": \"['2021-02-19']\"}'\n",
        "    \"\"\"\n",
        "    print(f\"🛠️ Outil 'analyze_sales_stock_correlation' appelé.\")\n",
        "    print(f\"   ➡️ Reçu json_input_str (brut): {repr(json_input_str)}\")\n",
        "\n",
        "    if not isinstance(json_input_str, str):\n",
        "        return f\"Erreur: L'entrée doit être une chaîne JSON, reçu {type(json_input_str)}\"\n",
        "\n",
        "    cleaned_json_str = json_input_str\n",
        "    obs_marker = \"\\nObservation\"\n",
        "    if obs_marker in cleaned_json_str:\n",
        "        cleaned_json_str = cleaned_json_str.split(obs_marker, 1)[0]\n",
        "    cleaned_json_str = cleaned_json_str.strip()\n",
        "\n",
        "    if cleaned_json_str.startswith(\"'\") and cleaned_json_str.endswith(\"'\"):\n",
        "        cleaned_json_str = cleaned_json_str[1:-1]\n",
        "\n",
        "    print(f\"   ➡️ Chaîne JSON nettoyée à parser: {repr(cleaned_json_str)}\")\n",
        "\n",
        "    sales_data_str_extracted = \"Non extrait\" # Pour le message d'erreur\n",
        "    announcement_dates_str_extracted = \"Non extrait\" # Pour le message d'erreur\n",
        "\n",
        "    try:\n",
        "        data = {}\n",
        "        try:\n",
        "            data = json.loads(cleaned_json_str)\n",
        "        except json.JSONDecodeError as je:\n",
        "            print(f\"   ⚠️ json.loads a échoué ({je}), tentative avec ast.literal_eval...\")\n",
        "            try:\n",
        "                data = ast.literal_eval(cleaned_json_str)\n",
        "            except Exception as ae:\n",
        "                return f\"Erreur de parsing final de '{cleaned_json_str}': json_err={je}, ast_err={ae}\"\n",
        "\n",
        "        if not isinstance(data, dict):\n",
        "            return f\"Erreur: L'entrée JSON parsée n'est pas un dictionnaire. Reçu: {repr(data)}\"\n",
        "\n",
        "        sales_data_str_extracted = data.get(\"sales_data_str\")\n",
        "        announcement_dates_str_extracted = data.get(\"announcement_dates_str\")\n",
        "\n",
        "        if sales_data_str_extracted is None or announcement_dates_str_extracted is None:\n",
        "            return f\"Erreur: JSON '{repr(cleaned_json_str)}' doit contenir 'sales_data_str' et 'announcement_dates_str'. Clés: {list(data.keys())}\"\n",
        "        if not isinstance(sales_data_str_extracted, str) or not isinstance(announcement_dates_str_extracted, str):\n",
        "            return \"Erreur: Les valeurs pour 'sales_data_str' et 'announcement_dates_str' dans le JSON doivent être des chaînes.\"\n",
        "\n",
        "        print(f\"      ➡️ sales_data_str extrait: {repr(sales_data_str_extracted)}\")\n",
        "        print(f\"      ➡️ announcement_dates_str extrait: {repr(announcement_dates_str_extracted)}\")\n",
        "\n",
        "        sales_data = ast.literal_eval(sales_data_str_extracted)\n",
        "        announcement_dates_list = ast.literal_eval(announcement_dates_str_extracted)\n",
        "\n",
        "        if not isinstance(sales_data, dict) or not isinstance(announcement_dates_list, list):\n",
        "             return \"Erreur: sales_data_str ou announcement_dates_str n'ont pas été évalués en dict/list.\"\n",
        "\n",
        "        announcement_dates_dt = [pd.to_datetime(d_str, errors='coerce') for d_str in announcement_dates_list]\n",
        "        announcement_dates_dt = [d for d in announcement_dates_dt if pd.notna(d)] # Garder seulement les dates valides\n",
        "\n",
        "        if 'stock_data' not in globals() or stock_data is None or stock_data.empty:\n",
        "            return \"Erreur: Les données boursières (`stock_data`) ne sont pas chargées ou sont vides.\"\n",
        "\n",
        "        df_analysis = pd.DataFrame(index=pd.to_datetime(announcement_dates_dt)) # Assurer DatetimeIndex\n",
        "        df_analysis = df_analysis[df_analysis.index.year >= 2020].sort_index()\n",
        "\n",
        "        if df_analysis.empty:\n",
        "            return \"Aucune date d'annonce valide (convertible et >= 2020) pour l'analyse.\"\n",
        "\n",
        "        df_analysis['stock_price'] = stock_data.reindex(df_analysis.index, method='ffill').get(('Close', 'RNO.PA'))\n",
        "\n",
        "        def get_sales_for_announcement_year(ann_date):\n",
        "            sales_year = str(ann_date.year - 1)\n",
        "            return sales_data.get(sales_year)\n",
        "\n",
        "        df_analysis['annual_sales'] = df_analysis.index.map(get_sales_for_announcement_year)\n",
        "\n",
        "        print(f\"      ➡️ df_analysis AVANT dropna: \\n{df_analysis}\") # DEBUG\n",
        "        df_analysis.dropna(subset=['stock_price', 'annual_sales'], inplace=True)\n",
        "        print(f\"      ➡️ df_analysis APRES dropna: \\n{df_analysis}\") # DEBUG\n",
        "        print(f\"      ➡️ Longueur de df_analysis après dropna: {len(df_analysis)}\") # DEBUG\n",
        "\n",
        "        if len(df_analysis) < 2:\n",
        "            return \"Pas assez de données communes (ventes annuelles et prix de l'action après nettoyage) pour corrélation (besoin d'au moins 2 points).\"\n",
        "\n",
        "        correlation, p_value = pearsonr(df_analysis['annual_sales'].astype(float), df_analysis['stock_price'].astype(float))\n",
        "\n",
        "        return (f\"Analyse de corrélation (sur {len(df_analysis)} points):\\n\"\n",
        "                f\"- Coeff. Pearson : {correlation:.4f}\\n- P-value : {p_value:.4f}\\n\"\n",
        "                f\"Interprétation: p-value < 0.05 suggère une corrélation significative.\")\n",
        "    except SyntaxError as se:\n",
        "        return (f\"Erreur de syntaxe lors de l'évaluation des chaînes d'entrée \"\n",
        "                f\"(JSON global: '{cleaned_json_str}', sales_str: '{repr(sales_data_str_extracted)}', \"\n",
        "                f\"dates_str: '{repr(announcement_dates_str_extracted)}'): {se}.\")\n",
        "    except Exception as e:\n",
        "        import traceback\n",
        "        print(f\"❌ Erreur détaillée dans analyze_sales_stock_correlation: {traceback.format_exc()}\")\n",
        "        return f\"Erreur inattendue dans l'analyse de corrélation : {type(e).__name__} - {e}\"\n",
        "\n",
        "print(\"✅ Outils définis.\")"
      ],
      "metadata": {
        "colab": {
          "base_uri": "https://localhost:8080/"
        },
        "id": "bKOHBLYsAWrd",
        "outputId": "a9e9b15e-63cc-46f1-d8b1-a08f18906d38"
      },
      "execution_count": 104,
      "outputs": [
        {
          "output_type": "stream",
          "name": "stdout",
          "text": [
            "✅ Outils définis.\n"
          ]
        }
      ]
    },
    {
      "cell_type": "markdown",
      "source": [
        "# 5. Exécution de l'Agent"
      ],
      "metadata": {
        "id": "DfAXfGqD-nn6"
      }
    },
    {
      "cell_type": "code",
      "source": [
        "# --- 5.1 Configuration du LLM ---\n",
        "print(\"🧠 Configuration du LLM...\")\n",
        "\n",
        "# HUGGINGFACEHUB_API_TOKEN est supposé être chargé depuis la Partie 0 via .env ou défini autrement.\n",
        "# Vérifions s'il est disponible et valide.\n",
        "llm = None # Initialiser llm\n",
        "\n",
        "# La variable HUGGINGFACEHUB_API_TOKEN est définie en Partie 0.\n",
        "# HUGGINGFACEHUB_API_TOKEN = os.environ.get(\"HUGGINGFACEHUB_API_TOKEN\")\n",
        "\n",
        "if not HUGGINGFACEHUB_API_TOKEN or HUGGINGFACEHUB_API_TOKEN == \"hf_YOUR_TOKEN_HERE\" or len(HUGGINGFACEHUB_API_TOKEN) < 10: # Ajout d'une vérification de base\n",
        "    print(\"❌ ATTENTION : Le token API Hugging Face n'est pas configuré correctement dans l'environnement (via .env ou manuellement en Partie 0).\")\n",
        "    print(\"   L'agent LLM ne pourra pas fonctionner.\")\n",
        "else:\n",
        "    print(\"✅ Token API Hugging Face trouvé et utilisé depuis l'environnement.\")\n",
        "    repo_id = \"mistralai/Mixtral-8x7B-Instruct-v0.1\"\n",
        "    try:\n",
        "        llm = HuggingFaceEndpoint(\n",
        "            repo_id=repo_id,\n",
        "            temperature=0.05,\n",
        "            max_new_tokens=2048,\n",
        "            huggingfacehub_api_token=HUGGINGFACEHUB_API_TOKEN, # Utilise le token de l'environnement\n",
        "            timeout=240\n",
        "        )\n",
        "        print(f\"✅ LLM '{repo_id}' configuré via HuggingFaceEndpoint.\")\n",
        "    except Exception as e:\n",
        "        print(f\"❌ Erreur lors de la configuration du LLM HuggingFaceEndpoint: {e}\")\n",
        "        print(\"   Vérifiez votre token API et la disponibilité du modèle.\")\n",
        "        llm = None # S'assurer que llm est None en cas d'erreur\n",
        "\n",
        "# --- 5.2 Définition de la liste des outils ---\n",
        "# Les outils doivent être définis dans la Partie 4 et accessibles ici.\n",
        "tools = []\n",
        "if 'knowledge_base_retriever' in globals() and \\\n",
        "   'get_stock_price_on_date' in globals() and \\\n",
        "   'plot_vehicle_sales' in globals() and \\\n",
        "   'plot_stock_vs_cac40_on_announcement_days' in globals() and \\\n",
        "   'analyze_sales_stock_correlation' in globals():\n",
        "\n",
        "    tools = [\n",
        "        knowledge_base_retriever,\n",
        "        get_stock_price_on_date,\n",
        "        plot_vehicle_sales,\n",
        "        plot_stock_vs_cac40_on_announcement_days,\n",
        "        analyze_sales_stock_correlation\n",
        "    ]\n",
        "    print(f\"🛠️ {len(tools)} outils prêts à être utilisés par l'agent.\")\n",
        "else:\n",
        "    print(\"❌ ERREUR: Un ou plusieurs outils de la Partie 4 ne semblent pas définis. L'agent ne pourra pas les utiliser.\")\n",
        "\n",
        "# --- 5.3 Récupération du Prompt Template ---\n",
        "prompt = None\n",
        "try:\n",
        "    prompt = hub.pull(\"hwchase17/react\") # Prompt ReAct standard\n",
        "    print(\"✅ Prompt ReAct chargé depuis Langchain Hub.\")\n",
        "except Exception as e:\n",
        "    print(f\"❌ Erreur lors du chargement du prompt depuis Langchain Hub: {e}. L'agent pourrait ne pas fonctionner comme prévu.\")\n",
        "    prompt = None\n",
        "\n",
        "# --- 5.4 Création de l'Agent ---\n",
        "agent = None\n",
        "if llm and prompt and tools: # S'assurer que tous les composants sont là\n",
        "    try:\n",
        "        agent = create_react_agent(llm, tools, prompt)\n",
        "        print(\"🤖 Agent créé.\")\n",
        "    except Exception as e:\n",
        "        print(f\"❌ Erreur lors de la création de l'agent: {e}\")\n",
        "        agent = None\n",
        "else:\n",
        "    print(\"⚠️ L'agent n'a pas pu être créé car des composants essentiels manquent (LLM, prompt, ou outils).\")\n",
        "\n",
        "# --- 5.5 Création de l'Exécuteur d'Agent ---\n",
        "agent_executor = None\n",
        "if agent and tools: # Agent et tools doivent exister\n",
        "    try:\n",
        "        agent_executor = AgentExecutor(\n",
        "            agent=agent,\n",
        "            tools=tools,\n",
        "            verbose=SHOW_AGENT_THOUGHTS, # Contrôlé par la variable globale\n",
        "            handle_parsing_errors=True,\n",
        "            max_iterations=15 # Permettre plus d'itérations pour les tâches complexes\n",
        "        )\n",
        "        print(\"🏃 Exécuteur d'agent prêt.\")\n",
        "    except Exception as e:\n",
        "        print(f\"❌ Erreur lors de la création de l'exécuteur d'agent: {e}\")\n",
        "        agent_executor = None\n",
        "else:\n",
        "    if not agent: print(\"⚠️ Exécuteur d'agent non créé car l'agent manque.\")\n",
        "    if not tools: print(\"⚠️ Exécuteur d'agent non créé car la liste des outils est vide.\")\n",
        "\n",
        "agent_responses_list = [] # Initialiser la liste pour stocker les réponses\n",
        "\n",
        "# --- 5.6 Test de l'Agent avec les Questions ---\n",
        "if agent_executor:\n",
        "    display(Markdown(\"--- \\n# 🚀 Tests de l'Agent \\n ---\"))\n",
        "\n",
        "    # Questions fidèles au brief PDF, en français\n",
        "    questions = [\n",
        "        \"Résume le rapport du plan Renaulution quand il a été annoncé en 2021. Ta synthèse doit mettre en lumière la stratégie, les grandes étapes, et les principaux objectifs. Réponds en français.\", # Q1\n",
        "        \"Identifie les membres du conseil d'administration en 2021. Réponds en français.\", # Q2\n",
        "        \"Décris les changements au sein du conseil d'administration entre 2023 et 2024. Réponds en français.\", # Q3\n",
        "        \"Quel était le nombre total de véhicules vendus par Renault en 2023 ? Réponds en français.\", # Q4\n",
        "        \"Crée un graphique illustrant le nombre de véhicules vendus par Renault par année à partir de 2020. Assure-toi d'abord d'avoir les données de ventes pour les années 2020, 2021, 2022 et 2023. Réponds en français.\", # Q5\n",
        "        \"Crée un graphique qui compare le cours de l'action Renault les jours d'annonce des résultats depuis 2020 avec la performance globale du CAC40 pendant la même période. Réponds en français.\", # Q6\n",
        "        \"Analyse la corrélation entre les ventes annuelles de véhicules de Renault et le cours de son action, spécifiquement les jours d'annonce des résultats, depuis 2020. Réponds en français.\", # Q7\n",
        "        \"Quels sont les indicateurs DPEF de Renault pour l'année 2023 ? Réponds en français.\", # Q8\n",
        "        \"Résume les progrès du plan Renaulution depuis 2021. Réponds en français.\"  # Q9\n",
        "    ]\n",
        "\n",
        "    for i, question in enumerate(questions):\n",
        "        display(Markdown(f\"--- \\n## ❓ Question {i+1}/{len(questions)}\"))\n",
        "        display(Markdown(f\"**{question}**\"))\n",
        "\n",
        "        if not SHOW_AGENT_THOUGHTS:\n",
        "            print(f\"\\n> Exécution de l'agent pour la question {i+1} (mode concis)...\")\n",
        "        else:\n",
        "            print(f\"\\n> Exécution de l'agent pour la question {i+1} (mode verbeux)...\")\n",
        "\n",
        "        try:\n",
        "            response = agent_executor.invoke({\"input\": question})\n",
        "            final_answer = response.get(\"output\", \"Pas de sortie 'output' dans la réponse.\")\n",
        "\n",
        "            agent_responses_list.append({\n",
        "                \"id\": f\"Q{i+1}\",\n",
        "                \"question_posee\": question,\n",
        "                \"reponse_agent\": final_answer\n",
        "            })\n",
        "\n",
        "            display(Markdown(\"--- \\n### ✅ Réponse de l'Agent :\"))\n",
        "            display(Markdown(final_answer))\n",
        "\n",
        "            if \".png\" in final_answer.lower() or \".jpg\" in final_answer.lower():\n",
        "                try:\n",
        "                    filename_match = re.search(r\"(['\\\"])([^'\\\"]+\\.(png|jpg))(['\\\"])\", final_answer, re.IGNORECASE)\n",
        "                    if filename_match:\n",
        "                        filename = filename_match.group(2)\n",
        "                        if os.path.exists(filename):\n",
        "                            display(Markdown(f\"🖼️ *Le fichier '{filename}' a été généré et est disponible.*\"))\n",
        "                            # display(Image(filename=filename)) # Optionnel: afficher l'image\n",
        "                        else:\n",
        "                            display(Markdown(f\"🖼️ *L'agent mentionne '{filename}', mais le fichier n'est pas trouvé.*\"))\n",
        "                    else:\n",
        "                        display(Markdown(f\"🖼️ *Un fichier image semble avoir été mentionné.*\"))\n",
        "                except Exception as img_e:\n",
        "                     display(Markdown(f\"🖼️ *Erreur lors de la vérification du fichier image : {img_e}*\"))\n",
        "        except Exception as e:\n",
        "            agent_responses_list.append({\n",
        "                \"id\": f\"Q{i+1}\",\n",
        "                \"question_posee\": question,\n",
        "                \"reponse_agent\": f\"ERREUR: {e}\"\n",
        "            })\n",
        "            display(Markdown(f\"### ❌ Erreur lors de l'exécution de l'agent :\"))\n",
        "            display(Markdown(f\"```\\n{e}\\n```\")) # Afficher l'erreur en format Markdown\n",
        "        display(Markdown(\"---\"))\n",
        "else:\n",
        "    # Ce message s'affichera si agent_executor n'a pas été initialisé à cause d'une erreur précédente\n",
        "    display(Markdown(\"--- \\n### ⚠️ L'exécuteur d'agent n'est pas initialisé. Vérifiez les logs des sections 5.1 à 5.5 pour des erreurs de configuration ou d'initialisation des composants (LLM, outils, prompt, agent).\\n ---\"))"
      ],
      "metadata": {
        "colab": {
          "base_uri": "https://localhost:8080/",
          "height": 1000
        },
        "id": "pmBEaJzTO_eO",
        "outputId": "2534b701-a7bd-459e-e8de-6dc44651b44a"
      },
      "execution_count": 143,
      "outputs": [
        {
          "output_type": "stream",
          "name": "stdout",
          "text": [
            "🧠 Configuration du LLM...\n",
            "✅ Token API Hugging Face trouvé et utilisé depuis l'environnement.\n",
            "✅ LLM 'mistralai/Mixtral-8x7B-Instruct-v0.1' configuré via HuggingFaceEndpoint.\n",
            "🛠️ 5 outils prêts à être utilisés par l'agent.\n",
            "✅ Prompt ReAct chargé depuis Langchain Hub.\n",
            "🤖 Agent créé.\n",
            "🏃 Exécuteur d'agent prêt.\n"
          ]
        },
        {
          "output_type": "stream",
          "name": "stderr",
          "text": [
            "/usr/local/lib/python3.11/dist-packages/langsmith/client.py:272: LangSmithMissingAPIKeyWarning: API key must be provided when using hosted LangSmith API\n",
            "  warnings.warn(\n"
          ]
        },
        {
          "output_type": "display_data",
          "data": {
            "text/plain": [
              "<IPython.core.display.Markdown object>"
            ],
            "text/markdown": "--- \n# 🚀 Tests de l'Agent \n ---"
          },
          "metadata": {}
        },
        {
          "output_type": "display_data",
          "data": {
            "text/plain": [
              "<IPython.core.display.Markdown object>"
            ],
            "text/markdown": "--- \n## ❓ Question 1/9"
          },
          "metadata": {}
        },
        {
          "output_type": "display_data",
          "data": {
            "text/plain": [
              "<IPython.core.display.Markdown object>"
            ],
            "text/markdown": "**Résume le rapport du plan Renaulution quand il a été annoncé en 2021. Ta synthèse doit mettre en lumière la stratégie, les grandes étapes, et les principaux objectifs. Réponds en français.**"
          },
          "metadata": {}
        },
        {
          "output_type": "stream",
          "name": "stdout",
          "text": [
            "\n",
            "> Exécution de l'agent pour la question 1 (mode concis)...\n",
            "🛠️ Outil 'knowledge_base_retriever' appelé avec tool_input: '\\'{\"query\": \"plan Renaulution 2021\", \"target_year\": \"2021\"}\\'\\nObservation'\n",
            "   ℹ️ Input parsé comme JSON. Query: 'plan Renaulution 2021', Target Year: 2021\n",
            "   Filtrage des résultats pour l'année cible : 2021 (parmi les 14 chunks récupérés)\n",
            "   ℹ️ Sources RAG finales fournies au LLM pour 'plan Renaulution 2021': Plan_Renaulution_2021.txt, Renault_DEU_2021.pdf\n"
          ]
        },
        {
          "output_type": "display_data",
          "data": {
            "text/plain": [
              "<IPython.core.display.Markdown object>"
            ],
            "text/markdown": "--- \n### ✅ Réponse de l'Agent :"
          },
          "metadata": {}
        },
        {
          "output_type": "display_data",
          "data": {
            "text/plain": [
              "<IPython.core.display.Markdown object>"
            ],
            "text/markdown": "Le plan Renaulution, annoncé en 2021, est une stratégie de transformation de l'entreprise en trois étapes : la résurrection (2020-2023), la rénovation (2022-2025), et la révolution (à partir de 2025). La résurrection vise à réduire les coûts et améliorer les marges, tandis que la rénovation introduira une gamme entièrement nouvelle et électrifiée, se recentrant sur les véritables gisements de bénéfices. La révolution, à partir de 2025, vise à se recentrer sur la chaîne de valeur de la nouvelle mobilité, en répondant aux nouvelles attentes des clients. Le plan prévoit également une réduction des coûts fixes et variables, avec un objectif de 3 milliards d'euros d'ici 2025. Les résultats de l'année 2021 ont validé la première étape du redressement.</s>"
          },
          "metadata": {}
        },
        {
          "output_type": "display_data",
          "data": {
            "text/plain": [
              "<IPython.core.display.Markdown object>"
            ],
            "text/markdown": "---"
          },
          "metadata": {}
        },
        {
          "output_type": "display_data",
          "data": {
            "text/plain": [
              "<IPython.core.display.Markdown object>"
            ],
            "text/markdown": "--- \n## ❓ Question 2/9"
          },
          "metadata": {}
        },
        {
          "output_type": "display_data",
          "data": {
            "text/plain": [
              "<IPython.core.display.Markdown object>"
            ],
            "text/markdown": "**Identifie les membres du conseil d'administration en 2021. Réponds en français.**"
          },
          "metadata": {}
        },
        {
          "output_type": "stream",
          "name": "stdout",
          "text": [
            "\n",
            "> Exécution de l'agent pour la question 2 (mode concis)...\n",
            "🛠️ Outil 'knowledge_base_retriever' appelé avec tool_input: '\\'{\"query\": \"membres conseil administration 2021\", \"target_year\": \"2021\"}\\'\\nObservation'\n",
            "   ℹ️ Input parsé comme JSON. Query: 'membres conseil administration 2021', Target Year: 2021\n",
            "   Filtrage des résultats pour l'année cible : 2021 (parmi les 14 chunks récupérés)\n",
            "   ℹ️ Sources RAG finales fournies au LLM pour 'membres conseil administration 2021': Renault_DEU_2021.pdf\n"
          ]
        },
        {
          "output_type": "display_data",
          "data": {
            "text/plain": [
              "<IPython.core.display.Markdown object>"
            ],
            "text/markdown": "--- \n### ✅ Réponse de l'Agent :"
          },
          "metadata": {}
        },
        {
          "output_type": "display_data",
          "data": {
            "text/plain": [
              "<IPython.core.display.Markdown object>"
            ],
            "text/markdown": "Les membres du conseil d'administration en 2021 étaient Catherine Barba, Pierre Fleuriot, Jean-Dominique Senard, Mouna Sepehri, José-Vicente de los Mozos, Yasuhiro Yamauchi, et Hadi Zablit.</s>"
          },
          "metadata": {}
        },
        {
          "output_type": "display_data",
          "data": {
            "text/plain": [
              "<IPython.core.display.Markdown object>"
            ],
            "text/markdown": "---"
          },
          "metadata": {}
        },
        {
          "output_type": "display_data",
          "data": {
            "text/plain": [
              "<IPython.core.display.Markdown object>"
            ],
            "text/markdown": "--- \n## ❓ Question 3/9"
          },
          "metadata": {}
        },
        {
          "output_type": "display_data",
          "data": {
            "text/plain": [
              "<IPython.core.display.Markdown object>"
            ],
            "text/markdown": "**Décris les changements au sein du conseil d'administration entre 2023 et 2024. Réponds en français.**"
          },
          "metadata": {}
        },
        {
          "output_type": "stream",
          "name": "stdout",
          "text": [
            "\n",
            "> Exécution de l'agent pour la question 3 (mode concis)...\n",
            "🛠️ Outil 'knowledge_base_retriever' appelé avec tool_input: '\\'{\"query\": \"membres conseil administration 2023-2024\", \"target_year\": \"2023-2024\"}\\'\\nObservation'\n",
            "   ℹ️ Input parsé comme JSON. Query: 'membres conseil administration 2023-2024', Target Year: 2023-2024\n",
            "   Filtrage des résultats pour l'année cible : 2023-2024 (parmi les 14 chunks récupérés)\n",
            "   ⚠️ Aucun résultat après filtrage strict pour 2023-2024. Utilisation des 7 meilleurs résultats globaux.\n",
            "   ℹ️ Sources RAG finales fournies au LLM pour 'membres conseil administration 2023-2024': Renault_DEU_2021.pdf, Renault_DEU_2024.pdf\n"
          ]
        },
        {
          "output_type": "display_data",
          "data": {
            "text/plain": [
              "<IPython.core.display.Markdown object>"
            ],
            "text/markdown": "--- \n### ✅ Réponse de l'Agent :"
          },
          "metadata": {}
        },
        {
          "output_type": "display_data",
          "data": {
            "text/plain": [
              "<IPython.core.display.Markdown object>"
            ],
            "text/markdown": "Selon les informations disponibles, la composition du conseil d'administration de Renault est restée la même entre 2023 et 2024. Les mandats de Catherine Barba et Pierre Fleuriot en tant qu'administrateurs indépendants ont été renouvelés pour 2023. Pour 2024, aucun changement explicite dans la composition du conseil d'administration n'a été mentionné, seulement une auto-évaluation de son fonctionnement et de celui de ses comités.</s>"
          },
          "metadata": {}
        },
        {
          "output_type": "display_data",
          "data": {
            "text/plain": [
              "<IPython.core.display.Markdown object>"
            ],
            "text/markdown": "---"
          },
          "metadata": {}
        },
        {
          "output_type": "display_data",
          "data": {
            "text/plain": [
              "<IPython.core.display.Markdown object>"
            ],
            "text/markdown": "--- \n## ❓ Question 4/9"
          },
          "metadata": {}
        },
        {
          "output_type": "display_data",
          "data": {
            "text/plain": [
              "<IPython.core.display.Markdown object>"
            ],
            "text/markdown": "**Quel était le nombre total de véhicules vendus par Renault en 2023 ? Réponds en français.**"
          },
          "metadata": {}
        },
        {
          "output_type": "stream",
          "name": "stdout",
          "text": [
            "\n",
            "> Exécution de l'agent pour la question 4 (mode concis)...\n",
            "🛠️ Outil 'knowledge_base_retriever' appelé avec tool_input: '\\'{\"query\": \"nombre total de véhicules vendus 2023\"}\\'\\nObservation'\n",
            "   ℹ️ Input parsé comme JSON. Query: 'nombre total de véhicules vendus 2023', Target Year: None\n",
            "   ℹ️ Sources RAG finales fournies au LLM pour 'nombre total de véhicules vendus 2023': Conference_Resultats_2024.txt, Renault_DEU_2021.pdf, Renault_DEU_2022.pdf, Renault_DEU_2023.pdf\n"
          ]
        },
        {
          "output_type": "display_data",
          "data": {
            "text/plain": [
              "<IPython.core.display.Markdown object>"
            ],
            "text/markdown": "--- \n### ✅ Réponse de l'Agent :"
          },
          "metadata": {}
        },
        {
          "output_type": "display_data",
          "data": {
            "text/plain": [
              "<IPython.core.display.Markdown object>"
            ],
            "text/markdown": "I could not find the exact number of vehicles sold by Renault in 2023. The closest information I found is the sales data for 2022, which is not the requested year.</s>"
          },
          "metadata": {}
        },
        {
          "output_type": "display_data",
          "data": {
            "text/plain": [
              "<IPython.core.display.Markdown object>"
            ],
            "text/markdown": "---"
          },
          "metadata": {}
        },
        {
          "output_type": "display_data",
          "data": {
            "text/plain": [
              "<IPython.core.display.Markdown object>"
            ],
            "text/markdown": "--- \n## ❓ Question 5/9"
          },
          "metadata": {}
        },
        {
          "output_type": "display_data",
          "data": {
            "text/plain": [
              "<IPython.core.display.Markdown object>"
            ],
            "text/markdown": "**Crée un graphique illustrant le nombre de véhicules vendus par Renault par année à partir de 2020. Assure-toi d'abord d'avoir les données de ventes pour les années 2020, 2021, 2022 et 2023. Réponds en français.**"
          },
          "metadata": {}
        },
        {
          "output_type": "stream",
          "name": "stdout",
          "text": [
            "\n",
            "> Exécution de l'agent pour la question 5 (mode concis)...\n",
            "🛠️ Outil 'knowledge_base_retriever' appelé avec tool_input: '{\"query\": \"nombre véhicules vendus annuellement 2020-2023\"}\\nObservation'\n",
            "   ℹ️ Input parsé comme JSON. Query: 'nombre véhicules vendus annuellement 2020-2023', Target Year: None\n",
            "   ℹ️ Sources RAG finales fournies au LLM pour 'nombre véhicules vendus annuellement 2020-2023': Conference_Resultats_2021.txt, Conference_Resultats_2022.txt, Conference_Resultats_2024.txt, Renault_DEU_2021.pdf, Renault_DEU_2022.pdf, Renault_DEU_2023.pdf\n",
            "🛠️ Outil 'plot_vehicle_sales' appelé.\n",
            "   ➡️ Reçu sales_data_input (type <class 'str'>): '{\"2020\": 2950000, \"2021\": 2700000, \"2022\": 2600000, \"2023\": 3000000}\\nObservation'\n",
            "   ➡️ Chaîne à évaluer (sales_data_str_cleaned): '{\"2020\": 2950000, \"2021\": 2700000, \"2022\": 2600000, \"2023\": 3000000}'\n"
          ]
        },
        {
          "output_type": "display_data",
          "data": {
            "text/plain": [
              "<IPython.core.display.Markdown object>"
            ],
            "text/markdown": "--- \n### ✅ Réponse de l'Agent :"
          },
          "metadata": {}
        },
        {
          "output_type": "display_data",
          "data": {
            "text/plain": [
              "<IPython.core.display.Markdown object>"
            ],
            "text/markdown": "Voici le graphique illustrant le nombre de véhicules vendus par Renault par année à partir de 2020 : 'ventes_vehicules_par_an.png'.</s>"
          },
          "metadata": {}
        },
        {
          "output_type": "display_data",
          "data": {
            "text/plain": [
              "<IPython.core.display.Markdown object>"
            ],
            "text/markdown": "🖼️ *Le fichier 'ventes_vehicules_par_an.png' a été généré et est disponible.*"
          },
          "metadata": {}
        },
        {
          "output_type": "display_data",
          "data": {
            "text/plain": [
              "<IPython.core.display.Markdown object>"
            ],
            "text/markdown": "---"
          },
          "metadata": {}
        },
        {
          "output_type": "display_data",
          "data": {
            "text/plain": [
              "<IPython.core.display.Markdown object>"
            ],
            "text/markdown": "--- \n## ❓ Question 6/9"
          },
          "metadata": {}
        },
        {
          "output_type": "display_data",
          "data": {
            "text/plain": [
              "<IPython.core.display.Markdown object>"
            ],
            "text/markdown": "**Crée un graphique qui compare le cours de l'action Renault les jours d'annonce des résultats depuis 2020 avec la performance globale du CAC40 pendant la même période. Réponds en français.**"
          },
          "metadata": {}
        },
        {
          "output_type": "stream",
          "name": "stdout",
          "text": [
            "\n",
            "> Exécution de l'agent pour la question 6 (mode concis)...\n",
            "🛠️ Outil 'knowledge_base_retriever' appelé avec tool_input: '\\'{\"query\": \"dates annonces résultats Renault depuis 2020\"}\\'\\nObservation'\n",
            "   ℹ️ Input parsé comme JSON. Query: 'dates annonces résultats Renault depuis 2020', Target Year: None\n",
            "   ℹ️ Sources RAG finales fournies au LLM pour 'dates annonces résultats Renault depuis 2020': Renault_DEU_2021.pdf, Renault_DEU_2024.pdf\n",
            "🛠️ Outil 'knowledge_base_retriever' appelé avec tool_input: '\\'{\"query\": \"dates annonces résultats Renault depuis 2020\", \"target_year\": \"2020-2022\"}\\'\\nObservation'\n",
            "   ℹ️ Input parsé comme JSON. Query: 'dates annonces résultats Renault depuis 2020', Target Year: 2020-2022\n",
            "   Filtrage des résultats pour l'année cible : 2020-2022 (parmi les 14 chunks récupérés)\n",
            "   ⚠️ Aucun résultat après filtrage strict pour 2020-2022. Utilisation des 7 meilleurs résultats globaux.\n",
            "   ℹ️ Sources RAG finales fournies au LLM pour 'dates annonces résultats Renault depuis 2020': Renault_DEU_2021.pdf, Renault_DEU_2024.pdf\n",
            "🛠️ Outil 'plot_stock_vs_cac40_on_announcement_days' appelé.\n",
            "   ➡️ Reçu dates_input_raw (type <class 'str'>): '\\'{\"announcement_dates_str\": \"[\\\\\"2021-07-24\\\\\", \\\\\"2021-09-06\\\\\", \\\\\"2021-09-16\\\\\", \\\\\"2022-02-18\\\\\"]}\\'\\nObservation'\n",
            "   ➡️ Chaîne nettoyée (cleaned_input_str) pour évaluation initiale: '{\"announcement_dates_str\": \"[\\\\\"2021-07-24\\\\\", \\\\\"2021-09-06\\\\\", \\\\\"2021-09-16\\\\\", \\\\\"2022-02-18\\\\\"]}'\n",
            "🛠️ Outil 'plot_stock_vs_cac40_on_announcement_days' appelé.\n",
            "   ➡️ Reçu dates_input_raw (type <class 'str'>): '\\'{\"announcement_dates_str\": \"[\\\\\\'2021-07-24\\\\\\', \\\\\\'2021-09-06\\\\\\', \\\\\\'2021-09-16\\\\\\', \\\\\\'2022-02-18\\\\\\']\"}\\'\\nObservation'\n",
            "   ➡️ Chaîne nettoyée (cleaned_input_str) pour évaluation initiale: '{\"announcement_dates_str\": \"[\\\\\\'2021-07-24\\\\\\', \\\\\\'2021-09-06\\\\\\', \\\\\\'2021-09-16\\\\\\', \\\\\\'2022-02-18\\\\\\']\"}'\n",
            "   ➡️ Chaîne de la liste de dates à évaluer (actual_list_str): \"['2021-07-24', '2021-09-06', '2021-09-16', '2022-02-18']\"\n"
          ]
        },
        {
          "output_type": "display_data",
          "data": {
            "text/plain": [
              "<IPython.core.display.Markdown object>"
            ],
            "text/markdown": "--- \n### ✅ Réponse de l'Agent :"
          },
          "metadata": {}
        },
        {
          "output_type": "display_data",
          "data": {
            "text/plain": [
              "<IPython.core.display.Markdown object>"
            ],
            "text/markdown": "Le graphique comparatif du cours de l'action Renault et de la performance du CAC40 les jours d'annonce de résultats depuis 2020 est disponible sous le nom 'renault_vs_cac40_annonces.png'. Les données sont normalisées à 100 au premier jour d'annonce.</s>"
          },
          "metadata": {}
        },
        {
          "output_type": "display_data",
          "data": {
            "text/plain": [
              "<IPython.core.display.Markdown object>"
            ],
            "text/markdown": "🖼️ *Le fichier 'renault_vs_cac40_annonces.png' a été généré et est disponible.*"
          },
          "metadata": {}
        },
        {
          "output_type": "display_data",
          "data": {
            "text/plain": [
              "<IPython.core.display.Markdown object>"
            ],
            "text/markdown": "---"
          },
          "metadata": {}
        },
        {
          "output_type": "display_data",
          "data": {
            "text/plain": [
              "<IPython.core.display.Markdown object>"
            ],
            "text/markdown": "--- \n## ❓ Question 7/9"
          },
          "metadata": {}
        },
        {
          "output_type": "display_data",
          "data": {
            "text/plain": [
              "<IPython.core.display.Markdown object>"
            ],
            "text/markdown": "**Analyse la corrélation entre les ventes annuelles de véhicules de Renault et le cours de son action, spécifiquement les jours d'annonce des résultats, depuis 2020. Réponds en français.**"
          },
          "metadata": {}
        },
        {
          "output_type": "stream",
          "name": "stdout",
          "text": [
            "\n",
            "> Exécution de l'agent pour la question 7 (mode concis)...\n",
            "🛠️ Outil 'knowledge_base_retriever' appelé avec tool_input: '\\'{\"query\": \"ventes véhicules annuelles Renault depuis 2020\"}\\'\\nObservation'\n",
            "   ℹ️ Input parsé comme JSON. Query: 'ventes véhicules annuelles Renault depuis 2020', Target Year: None\n",
            "   ℹ️ Sources RAG finales fournies au LLM pour 'ventes véhicules annuelles Renault depuis 2020': Conference_Resultats_2024.txt, Renault_DEU_2020.pdf, Renault_DEU_2021.pdf, Renault_DEU_2022.pdf\n",
            "🛠️ Outil 'knowledge_base_retriever' appelé avec tool_input: '\\'{\"query\": \"dates d\\'annonce des résultats Renault depuis 2020\"}\\'\\nObservation'\n",
            "   ℹ️ Input parsé comme JSON. Query: 'dates d'annonce des résultats Renault depuis 2020', Target Year: None\n",
            "   ℹ️ Sources RAG finales fournies au LLM pour 'dates d'annonce des résultats Renault depuis 2020': Renault_DEU_2021.pdf, Renault_DEU_2023.pdf, Renault_DEU_2024.pdf\n",
            "🛠️ Outil 'plot_stock_vs_cac40_on_announcement_days' appelé.\n",
            "   ➡️ Reçu dates_input_raw (type <class 'str'>): '\\'{\"announcement_dates_str\": \"[\\\\\"2020-02-19\\\\\", \\\\\"2021-02-18\\\\\", \\\\\"2022-02-17\\\\\", \\\\\"2023-02-16\\\\\", \\\\\"2024-02-15\\\\\"]\"}\\'\\nObservation'\n",
            "   ➡️ Chaîne nettoyée (cleaned_input_str) pour évaluation initiale: '{\"announcement_dates_str\": \"[\\\\\"2020-02-19\\\\\", \\\\\"2021-02-18\\\\\", \\\\\"2022-02-17\\\\\", \\\\\"2023-02-16\\\\\", \\\\\"2024-02-15\\\\\"]\"}'\n",
            "   ➡️ Chaîne de la liste de dates à évaluer (actual_list_str): '[\"2020-02-19\", \"2021-02-18\", \"2022-02-17\", \"2023-02-16\", \"2024-02-15\"]'\n",
            "🛠️ Outil 'analyze_sales_stock_correlation' appelé.\n",
            "   ➡️ Reçu json_input_str (brut): '\\'{\"sales_data_str\": \"{\\'2020\\': 2951971, \\'2021\\': 3021710}\", \"announcement_dates_str\": \"[\\\\\"2020-02-19\\\\\", \\\\\"2021-02-18\\\\\"]\"}\\'\\nObservation'\n",
            "   ➡️ Chaîne JSON nettoyée à parser: '{\"sales_data_str\": \"{\\'2020\\': 2951971, \\'2021\\': 3021710}\", \"announcement_dates_str\": \"[\\\\\"2020-02-19\\\\\", \\\\\"2021-02-18\\\\\"]\"}'\n",
            "      ➡️ sales_data_str extrait: \"{'2020': 2951971, '2021': 3021710}\"\n",
            "      ➡️ announcement_dates_str extrait: '[\"2020-02-19\", \"2021-02-18\"]'\n"
          ]
        },
        {
          "output_type": "display_data",
          "data": {
            "text/plain": [
              "<IPython.core.display.Markdown object>"
            ],
            "text/markdown": "--- \n### ✅ Réponse de l'Agent :"
          },
          "metadata": {}
        },
        {
          "output_type": "display_data",
          "data": {
            "text/plain": [
              "<IPython.core.display.Markdown object>"
            ],
            "text/markdown": "Les ventes annuelles de véhicules de Renault depuis 2020 sont de 2 951 971 unités en 2020 et 3 021 710 unités en 2021. Les dates d'annonce des résultats depuis 2020 sont le 19 février 2020, le 18 février 2021, le 17 février 2022, le 16 février 2023 et le 15 février 2024.</s>"
          },
          "metadata": {}
        },
        {
          "output_type": "display_data",
          "data": {
            "text/plain": [
              "<IPython.core.display.Markdown object>"
            ],
            "text/markdown": "---"
          },
          "metadata": {}
        },
        {
          "output_type": "display_data",
          "data": {
            "text/plain": [
              "<IPython.core.display.Markdown object>"
            ],
            "text/markdown": "--- \n## ❓ Question 8/9"
          },
          "metadata": {}
        },
        {
          "output_type": "display_data",
          "data": {
            "text/plain": [
              "<IPython.core.display.Markdown object>"
            ],
            "text/markdown": "**Quels sont les indicateurs DPEF de Renault pour l'année 2023 ? Réponds en français.**"
          },
          "metadata": {}
        },
        {
          "output_type": "stream",
          "name": "stdout",
          "text": [
            "\n",
            "> Exécution de l'agent pour la question 8 (mode concis)...\n",
            "🛠️ Outil 'knowledge_base_retriever' appelé avec tool_input: '\\'{\"query\": \"indicateurs DPEF 2023\", \"target_year\": \"2023\"}\\'\\nObservation'\n",
            "   ℹ️ Input parsé comme JSON. Query: 'indicateurs DPEF 2023', Target Year: 2023\n",
            "   Filtrage des résultats pour l'année cible : 2023 (parmi les 14 chunks récupérés)\n",
            "   ℹ️ Sources RAG finales fournies au LLM pour 'indicateurs DPEF 2023': Renault_DEU_2023.pdf\n"
          ]
        },
        {
          "output_type": "display_data",
          "data": {
            "text/plain": [
              "<IPython.core.display.Markdown object>"
            ],
            "text/markdown": "--- \n### ✅ Réponse de l'Agent :"
          },
          "metadata": {}
        },
        {
          "output_type": "display_data",
          "data": {
            "text/plain": [
              "<IPython.core.display.Markdown object>"
            ],
            "text/markdown": "Les indicateurs DPEF de Renault pour l'année 2023 comprennent la disponibilité sur demande des analyses de cycle de vie (ACV) de certains modèles de véhicules, l'audit annuel de 100% des sites de fabrication et des principaux sites tertiaires et logistiques de Renault Group sur l'environnement et la prévention des risques, et la certification ISO 14001 de 100% des sites de production.</s>"
          },
          "metadata": {}
        },
        {
          "output_type": "display_data",
          "data": {
            "text/plain": [
              "<IPython.core.display.Markdown object>"
            ],
            "text/markdown": "---"
          },
          "metadata": {}
        },
        {
          "output_type": "display_data",
          "data": {
            "text/plain": [
              "<IPython.core.display.Markdown object>"
            ],
            "text/markdown": "--- \n## ❓ Question 9/9"
          },
          "metadata": {}
        },
        {
          "output_type": "display_data",
          "data": {
            "text/plain": [
              "<IPython.core.display.Markdown object>"
            ],
            "text/markdown": "**Résume les progrès du plan Renaulution depuis 2021. Réponds en français.**"
          },
          "metadata": {}
        },
        {
          "output_type": "stream",
          "name": "stdout",
          "text": [
            "\n",
            "> Exécution de l'agent pour la question 9 (mode concis)...\n",
            "🛠️ Outil 'knowledge_base_retriever' appelé avec tool_input: 'plan Renaulution objectifs\"\\nObservation'\n",
            "   ℹ️ Input traité comme chaîne simple. Query: 'plan Renaulution objectifs\"', Année détectée (si présente): None\n",
            "   ℹ️ Sources RAG finales fournies au LLM pour 'plan Renaulution objectifs\"': Renault_DEU_2020.pdf, Renault_DEU_2021.pdf, Renault_DEU_2022.pdf, Renault_DEU_2023.pdf, Renault_DEU_2024.pdf\n"
          ]
        },
        {
          "output_type": "display_data",
          "data": {
            "text/plain": [
              "<IPython.core.display.Markdown object>"
            ],
            "text/markdown": "--- \n### ✅ Réponse de l'Agent :"
          },
          "metadata": {}
        },
        {
          "output_type": "display_data",
          "data": {
            "text/plain": [
              "<IPython.core.display.Markdown object>"
            ],
            "text/markdown": "Le plan Renaulution est un plan stratégique de transformation de l'entreprise mis en place par M. Luca de Meo en janvier 2021. Il vise à transformer le Groupe pour bénéficier des opportunités de la mutation du secteur. La première phase, \"Résurrection\", a été achevée avec 3 ans d'avance et a porté ses fruits avec des résultats en 2022 au-dessus des objectifs initiaux et des attentes du marché. Le plan vise à accélérer l'efficacité des fonctions, renforcer l'efficacité et la performance de l'ingénierie et de la production, orienter la présence internationale du Groupe vers les marchés à fortes marges, et atteindre la neutralité carbone en Europe d'ici 2050.</s>"
          },
          "metadata": {}
        },
        {
          "output_type": "display_data",
          "data": {
            "text/plain": [
              "<IPython.core.display.Markdown object>"
            ],
            "text/markdown": "---"
          },
          "metadata": {}
        }
      ]
    },
    {
      "cell_type": "code",
      "source": [],
      "metadata": {
        "id": "yfy-tAowNJUZ"
      },
      "execution_count": 143,
      "outputs": []
    },
    {
      "cell_type": "markdown",
      "source": [
        "## 6. Comparaison et Évaluation des Réponses de l'Agent"
      ],
      "metadata": {
        "id": "tb5fI2HWNS2j"
      }
    },
    {
      "cell_type": "code",
      "source": [
        "target_answers = {\n",
        "    \"Q1\": (\"Le plan Renaulution, annoncé en 2021, vise une transformation de Renault d'une stratégie de volume à une de valeur. \"\n",
        "           \"Il s'articule en 3 phases : Résurrection (redressement financier), Rénovation (renouvellement des gammes et focus sur segments rentables/VE), \"\n",
        "           \"et Révolution (pivot vers tech, énergie, mobilité). Les marques sont repositionnées (Renault, Dacia, Alpine, Mobilize). \"\n",
        "           \"Objectifs : réduction des coûts, amélioration de la rentabilité (ex: marge op. >3% en 2023, >5% en 2025), et lancement de ~14 modèles dont 7 VE d'ici 2025.\"),\n",
        "\n",
        "    \"Q2\": (\"Au 31 décembre 2021, le Conseil d'Administration de Renault comptait 17 membres. \"\n",
        "           \"Parmi eux : Jean-Dominique Senard (Président), Catherine Barba, Frédéric Barrat, \"\n",
        "           \"Miriem Bensalah-Chaqroun, Thomas Courbe, Marie-Annick Darmaillac, Bernard Delpit, Noël Desgrippes, \"\n",
        "           \"Pierre Fleuriot, Richard Gentil, Frédéric Mazzella, Éric Personne, Yu Serizawa, Pascale Sourisse, \"\n",
        "           \"Joji Tagawa, Annette Winkler, et Martin Vial (représentant de l'État français).\"),\n",
        "\n",
        "    \"Q3\": (\"Les principaux changements au Conseil d'Administration durant l'année 2024 (visibles fin 2024 / début 2025) \"\n",
        "           \"concernent les représentants des salariés : Frédéric Barrat et Eric Personne ont été remplacés par Sébastien Jacquet et Eric Vidal en novembre 2024. \"\n",
        "           \"À noter également, Luca de Meo a été nommé administrateur en mai 2023.\"),\n",
        "\n",
        "    \"Q4\": \"En 2023, le Groupe Renault a vendu un total de 2 235 345 véhicules dans le monde.\",\n",
        "\n",
        "    \"Q5\": (\"Le graphique des ventes du Groupe Renault devrait montrer approximativement : \"\n",
        "           \"2020 : ~2,95M ; 2021 : ~2,70M ; 2022 : ~2,05M ; 2023 : ~2,24M véhicules. \"\n",
        "           \"L'agent doit confirmer la génération du fichier graphique.\"),\n",
        "\n",
        "    \"Q6\": (\"Le graphique comparant RNO.PA et CAC40 aux dates d'annonce des résultats annuels \"\n",
        "           \"(ex: pour résultats 2020: ~18/02/2021; 2021: ~17/02/2022; 2022: ~15/02/2023; 2023: ~14/02/2024) doit être généré. \"\n",
        "           \"L'agent doit confirmer la génération du fichier.\"),\n",
        "\n",
        "    \"Q7\": (\"L'analyse devrait montrer une corrélation négative forte (environ -0.78) entre les ventes annuelles du Groupe Renault \"\n",
        "           \"(2020-2023) et le cours de l'action RNO.PA aux jours d'annonce des résultats correspondants, \"\n",
        "           \"suggérant que d'autres facteurs (rentabilité, stratégie) ont plus pesé sur le cours que les volumes durant cette période.\"),\n",
        "\n",
        "    \"Q8\": (\"Pour 2023, les indicateurs DPEF clés de Renault Group incluent : \"\n",
        "           \"Émissions CO2 usines (scope 1+2) : ~612 kt ; \"\n",
        "           \"Émissions CO2 véhicules vendus (Europe) : ~99,1 g/km ; \"\n",
        "           \"Part d'électricité renouvelable (sites indus.) : ~37% ; \"\n",
        "           \"Taux de fréquence des accidents du travail (TF1) : ~1.66 ; \"\n",
        "           \"Part de femmes dans l'effectif total : ~25,1%.\"),\n",
        "\n",
        "    \"Q9\": (\"Depuis 2021, le plan Renaulution a permis un redressement significatif : \"\n",
        "           \"Phase Résurrection (2021-2022) achevée en avance (marge op. 5,6% en 2022, FCF 2,1 Mds€). \"\n",
        "           \"2023 (Rénovation/Révolution) : marge op. record 7,9%, FCF 3 Mds€, réorganisation en 5 business units. \"\n",
        "           \"Focus sur valeur, rentabilité, électrification et nouvelles mobilités.\")\n",
        "}\n",
        "\n",
        "# --- 6.2 Affichage de la Comparaison et Évaluation Qualitative ---\n",
        "\n",
        "if 'agent_responses_list' in globals() and agent_responses_list:\n",
        "    display(Markdown(\"--- \\n# 📊 Comparaison et Évaluation des Réponses de l'Agent 📊 \\n ---\"))\n",
        "\n",
        "    for i, response_item in enumerate(agent_responses_list):\n",
        "        q_id = response_item[\"id\"]\n",
        "        question_posee_par_agent = response_item[\"question_posee\"] # C'est la question de votre liste\n",
        "        reponse_agent_val = response_item[\"reponse_agent\"]\n",
        "\n",
        "        # Pour la comparaison, nous utilisons la question originale du brief (stockée dans la liste `questions`)\n",
        "        # Assurez-vous que `questions` est accessible ici ou recréez la liste.\n",
        "        # Si vous avez utilisé un autre nom de liste en Partie 5, mettez-le à jour ici.\n",
        "        try:\n",
        "            question_originale_du_brief = questions[i] # questions de la Partie 5\n",
        "        except NameError: # Si la liste n'est pas définie dans cette portée\n",
        "            question_originale_du_brief = question_posee_par_agent # Fallback\n",
        "        except IndexError:\n",
        "             question_originale_du_brief = f\"Question originale non trouvée pour Q{i+1}\"\n",
        "\n",
        "\n",
        "        target_reponse_val = target_answers.get(q_id, \"Réponse attendue simplifiée non définie pour cette question.\")\n",
        "\n",
        "        display(Markdown(f\"## ❓ {q_id} : {question_originale_du_brief}\")) # Affiche la question du brief\n",
        "\n",
        "        display(Markdown(\"### ✅ Réponse de l'Agent:\"))\n",
        "        display(Markdown(f\"```text\\n{reponse_agent_val}\\n```\"))\n",
        "\n",
        "        display(Markdown(\"### 🎯 Réponse Attendue :\"))\n",
        "        display(Markdown(f\"```text\\n{target_reponse_val}\\n```\"))\n",
        "\n",
        "        # --- Section d'Évaluation Qualitative (Exemple) ---\n",
        "        evaluation_commentaire = \"Évaluation qualitative :\"\n",
        "        # Ici, vous (ou moi, dans ce rôle) pourriez ajouter une logique d'évaluation\n",
        "        # Pour l'instant, je vais mettre un commentaire générique.\n",
        "        # Dans un vrai scénario, on comparerait plus en détail.\n",
        "\n",
        "        if \"ERREUR LORS DE L'EXÉCUTION\" in reponse_agent_val:\n",
        "            evaluation_commentaire += \"\\n- L'agent a rencontré une erreur.\"\n",
        "        elif \"graphique\" in question_originale_du_brief.lower():\n",
        "            if \".png\" in reponse_agent_val.lower() or \"graphique sauvegardé\" in reponse_agent_val.lower() :\n",
        "                 evaluation_commentaire += \"\\n- L'agent semble avoir correctement généré ou tenté de générer le graphique.\"\n",
        "            else:\n",
        "                 evaluation_commentaire += \"\\n- L'agent n'a pas confirmé la génération du graphique.\"\n",
        "        elif q_id == \"Q7\" and \"corrélation\" in question_originale_du_brief.lower():\n",
        "            if \"corrélation\" in reponse_agent_val.lower() and (\"Pearson\" in reponse_agent_val or \"P-value\" in reponse_agent_val):\n",
        "                evaluation_commentaire += \"\\n- L'agent a fourni une analyse de corrélation.\"\n",
        "            elif \"Pas assez de données\" in reponse_agent_val or \"Aucune date\" in reponse_agent_val :\n",
        "                evaluation_commentaire += \"\\n- L'agent indique un manque de données pour la corrélation (à vérifier par rapport aux logs des outils).\"\n",
        "            else:\n",
        "                evaluation_commentaire += \"\\n- La réponse pour la corrélation semble incomplète ou manquante.\"\n",
        "\n",
        "        # Vous pouvez ajouter d'autres logiques d'évaluation ici pour chaque question.\n",
        "        # Par exemple, vérifier la présence de mots-clés attendus.\n",
        "        # Pour Q4, on pourrait essayer d'extraire le chiffre et de le comparer.\n",
        "        if q_id == \"Q4\":\n",
        "            match_agent = re.search(r\"(\\d{1,3}(?:\\s?\\d{3})*|\\d+)\", reponse_agent_val.replace(\" \", \"\"))\n",
        "            match_target = re.search(r\"(\\d{1,3}(?:\\s?\\d{3})*|\\d+)\", target_reponse_val.replace(\" \", \"\"))\n",
        "            if match_agent and match_target:\n",
        "                if match_agent.group(1) == match_target.group(1):\n",
        "                    evaluation_commentaire += f\"\\n- Ventes 2023 : Chiffre {match_agent.group(1)} correctement identifié.\"\n",
        "                else:\n",
        "                    evaluation_commentaire += f\"\\n- Ventes 2023 : Chiffre de l'agent ({match_agent.group(1)}) diffère de l'attendu ({match_target.group(1)}).\"\n",
        "            else:\n",
        "                evaluation_commentaire += f\"\\n- Ventes 2023 : Impossible d'extraire/comparer les chiffres de ventes.\"\n",
        "\n",
        "        display(Markdown(f\"**📝 {evaluation_commentaire}**\"))\n",
        "        display(Markdown(\"---\"))\n",
        "\n",
        "else:\n",
        "    if not ('agent_responses_for_evaluation' in globals() and agent_responses_list):\n",
        "        print(\"⚠️ Aucune réponse de l'agent n'a été stockée depuis la Partie 5.\")\n",
        "    if not target_answers: # Ne devrait pas arriver si le dict est défini\n",
        "        print(\"⚠️ Les réponses attendues simplifiées ne sont pas définies.\")"
      ],
      "metadata": {
        "colab": {
          "base_uri": "https://localhost:8080/",
          "height": 1000
        },
        "id": "uYTJNcPVJIdB",
        "outputId": "9c276e6d-0a76-4dfc-c929-57ae46886607"
      },
      "execution_count": 144,
      "outputs": [
        {
          "output_type": "display_data",
          "data": {
            "text/plain": [
              "<IPython.core.display.Markdown object>"
            ],
            "text/markdown": "--- \n# 📊 Comparaison et Évaluation des Réponses de l'Agent 📊 \n ---"
          },
          "metadata": {}
        },
        {
          "output_type": "display_data",
          "data": {
            "text/plain": [
              "<IPython.core.display.Markdown object>"
            ],
            "text/markdown": "## ❓ Q1 : Résume le rapport du plan Renaulution quand il a été annoncé en 2021. Ta synthèse doit mettre en lumière la stratégie, les grandes étapes, et les principaux objectifs. Réponds en français."
          },
          "metadata": {}
        },
        {
          "output_type": "display_data",
          "data": {
            "text/plain": [
              "<IPython.core.display.Markdown object>"
            ],
            "text/markdown": "### ✅ Réponse de l'Agent:"
          },
          "metadata": {}
        },
        {
          "output_type": "display_data",
          "data": {
            "text/plain": [
              "<IPython.core.display.Markdown object>"
            ],
            "text/markdown": "```text\nLe plan Renaulution, annoncé en 2021, est une stratégie de transformation de l'entreprise en trois étapes : la résurrection (2020-2023), la rénovation (2022-2025), et la révolution (à partir de 2025). La résurrection vise à réduire les coûts et améliorer les marges, tandis que la rénovation introduira une gamme entièrement nouvelle et électrifiée, se recentrant sur les véritables gisements de bénéfices. La révolution, à partir de 2025, vise à se recentrer sur la chaîne de valeur de la nouvelle mobilité, en répondant aux nouvelles attentes des clients. Le plan prévoit également une réduction des coûts fixes et variables, avec un objectif de 3 milliards d'euros d'ici 2025. Les résultats de l'année 2021 ont validé la première étape du redressement.</s>\n```"
          },
          "metadata": {}
        },
        {
          "output_type": "display_data",
          "data": {
            "text/plain": [
              "<IPython.core.display.Markdown object>"
            ],
            "text/markdown": "### 🎯 Réponse Attendue :"
          },
          "metadata": {}
        },
        {
          "output_type": "display_data",
          "data": {
            "text/plain": [
              "<IPython.core.display.Markdown object>"
            ],
            "text/markdown": "```text\nLe plan Renaulution, annoncé en 2021, vise une transformation de Renault d'une stratégie de volume à une de valeur. Il s'articule en 3 phases : Résurrection (redressement financier), Rénovation (renouvellement des gammes et focus sur segments rentables/VE), et Révolution (pivot vers tech, énergie, mobilité). Les marques sont repositionnées (Renault, Dacia, Alpine, Mobilize). Objectifs : réduction des coûts, amélioration de la rentabilité (ex: marge op. >3% en 2023, >5% en 2025), et lancement de ~14 modèles dont 7 VE d'ici 2025.\n```"
          },
          "metadata": {}
        },
        {
          "output_type": "display_data",
          "data": {
            "text/plain": [
              "<IPython.core.display.Markdown object>"
            ],
            "text/markdown": "**📝 Évaluation qualitative :**"
          },
          "metadata": {}
        },
        {
          "output_type": "display_data",
          "data": {
            "text/plain": [
              "<IPython.core.display.Markdown object>"
            ],
            "text/markdown": "---"
          },
          "metadata": {}
        },
        {
          "output_type": "display_data",
          "data": {
            "text/plain": [
              "<IPython.core.display.Markdown object>"
            ],
            "text/markdown": "## ❓ Q2 : Identifie les membres du conseil d'administration en 2021. Réponds en français."
          },
          "metadata": {}
        },
        {
          "output_type": "display_data",
          "data": {
            "text/plain": [
              "<IPython.core.display.Markdown object>"
            ],
            "text/markdown": "### ✅ Réponse de l'Agent:"
          },
          "metadata": {}
        },
        {
          "output_type": "display_data",
          "data": {
            "text/plain": [
              "<IPython.core.display.Markdown object>"
            ],
            "text/markdown": "```text\nLes membres du conseil d'administration en 2021 étaient Catherine Barba, Pierre Fleuriot, Jean-Dominique Senard, Mouna Sepehri, José-Vicente de los Mozos, Yasuhiro Yamauchi, et Hadi Zablit.</s>\n```"
          },
          "metadata": {}
        },
        {
          "output_type": "display_data",
          "data": {
            "text/plain": [
              "<IPython.core.display.Markdown object>"
            ],
            "text/markdown": "### 🎯 Réponse Attendue :"
          },
          "metadata": {}
        },
        {
          "output_type": "display_data",
          "data": {
            "text/plain": [
              "<IPython.core.display.Markdown object>"
            ],
            "text/markdown": "```text\nAu 31 décembre 2021, le Conseil d'Administration de Renault comptait 17 membres. Parmi eux : Jean-Dominique Senard (Président), Catherine Barba, Frédéric Barrat, Miriem Bensalah-Chaqroun, Thomas Courbe, Marie-Annick Darmaillac, Bernard Delpit, Noël Desgrippes, Pierre Fleuriot, Richard Gentil, Frédéric Mazzella, Éric Personne, Yu Serizawa, Pascale Sourisse, Joji Tagawa, Annette Winkler, et Martin Vial (représentant de l'État français).\n```"
          },
          "metadata": {}
        },
        {
          "output_type": "display_data",
          "data": {
            "text/plain": [
              "<IPython.core.display.Markdown object>"
            ],
            "text/markdown": "**📝 Évaluation qualitative :**"
          },
          "metadata": {}
        },
        {
          "output_type": "display_data",
          "data": {
            "text/plain": [
              "<IPython.core.display.Markdown object>"
            ],
            "text/markdown": "---"
          },
          "metadata": {}
        },
        {
          "output_type": "display_data",
          "data": {
            "text/plain": [
              "<IPython.core.display.Markdown object>"
            ],
            "text/markdown": "## ❓ Q3 : Décris les changements au sein du conseil d'administration entre 2023 et 2024. Réponds en français."
          },
          "metadata": {}
        },
        {
          "output_type": "display_data",
          "data": {
            "text/plain": [
              "<IPython.core.display.Markdown object>"
            ],
            "text/markdown": "### ✅ Réponse de l'Agent:"
          },
          "metadata": {}
        },
        {
          "output_type": "display_data",
          "data": {
            "text/plain": [
              "<IPython.core.display.Markdown object>"
            ],
            "text/markdown": "```text\nSelon les informations disponibles, la composition du conseil d'administration de Renault est restée la même entre 2023 et 2024. Les mandats de Catherine Barba et Pierre Fleuriot en tant qu'administrateurs indépendants ont été renouvelés pour 2023. Pour 2024, aucun changement explicite dans la composition du conseil d'administration n'a été mentionné, seulement une auto-évaluation de son fonctionnement et de celui de ses comités.</s>\n```"
          },
          "metadata": {}
        },
        {
          "output_type": "display_data",
          "data": {
            "text/plain": [
              "<IPython.core.display.Markdown object>"
            ],
            "text/markdown": "### 🎯 Réponse Attendue :"
          },
          "metadata": {}
        },
        {
          "output_type": "display_data",
          "data": {
            "text/plain": [
              "<IPython.core.display.Markdown object>"
            ],
            "text/markdown": "```text\nLes principaux changements au Conseil d'Administration durant l'année 2024 (visibles fin 2024 / début 2025) concernent les représentants des salariés : Frédéric Barrat et Eric Personne ont été remplacés par Sébastien Jacquet et Eric Vidal en novembre 2024. À noter également, Luca de Meo a été nommé administrateur en mai 2023.\n```"
          },
          "metadata": {}
        },
        {
          "output_type": "display_data",
          "data": {
            "text/plain": [
              "<IPython.core.display.Markdown object>"
            ],
            "text/markdown": "**📝 Évaluation qualitative :**"
          },
          "metadata": {}
        },
        {
          "output_type": "display_data",
          "data": {
            "text/plain": [
              "<IPython.core.display.Markdown object>"
            ],
            "text/markdown": "---"
          },
          "metadata": {}
        },
        {
          "output_type": "display_data",
          "data": {
            "text/plain": [
              "<IPython.core.display.Markdown object>"
            ],
            "text/markdown": "## ❓ Q4 : Quel était le nombre total de véhicules vendus par Renault en 2023 ? Réponds en français."
          },
          "metadata": {}
        },
        {
          "output_type": "display_data",
          "data": {
            "text/plain": [
              "<IPython.core.display.Markdown object>"
            ],
            "text/markdown": "### ✅ Réponse de l'Agent:"
          },
          "metadata": {}
        },
        {
          "output_type": "display_data",
          "data": {
            "text/plain": [
              "<IPython.core.display.Markdown object>"
            ],
            "text/markdown": "```text\nI could not find the exact number of vehicles sold by Renault in 2023. The closest information I found is the sales data for 2022, which is not the requested year.</s>\n```"
          },
          "metadata": {}
        },
        {
          "output_type": "display_data",
          "data": {
            "text/plain": [
              "<IPython.core.display.Markdown object>"
            ],
            "text/markdown": "### 🎯 Réponse Attendue :"
          },
          "metadata": {}
        },
        {
          "output_type": "display_data",
          "data": {
            "text/plain": [
              "<IPython.core.display.Markdown object>"
            ],
            "text/markdown": "```text\nEn 2023, le Groupe Renault a vendu un total de 2 235 345 véhicules dans le monde.\n```"
          },
          "metadata": {}
        },
        {
          "output_type": "display_data",
          "data": {
            "text/plain": [
              "<IPython.core.display.Markdown object>"
            ],
            "text/markdown": "**📝 Évaluation qualitative :\n- Ventes 2023 : Chiffre 202 correctement identifié.**"
          },
          "metadata": {}
        },
        {
          "output_type": "display_data",
          "data": {
            "text/plain": [
              "<IPython.core.display.Markdown object>"
            ],
            "text/markdown": "---"
          },
          "metadata": {}
        },
        {
          "output_type": "display_data",
          "data": {
            "text/plain": [
              "<IPython.core.display.Markdown object>"
            ],
            "text/markdown": "## ❓ Q5 : Crée un graphique illustrant le nombre de véhicules vendus par Renault par année à partir de 2020. Assure-toi d'abord d'avoir les données de ventes pour les années 2020, 2021, 2022 et 2023. Réponds en français."
          },
          "metadata": {}
        },
        {
          "output_type": "display_data",
          "data": {
            "text/plain": [
              "<IPython.core.display.Markdown object>"
            ],
            "text/markdown": "### ✅ Réponse de l'Agent:"
          },
          "metadata": {}
        },
        {
          "output_type": "display_data",
          "data": {
            "text/plain": [
              "<IPython.core.display.Markdown object>"
            ],
            "text/markdown": "```text\nVoici le graphique illustrant le nombre de véhicules vendus par Renault par année à partir de 2020 : 'ventes_vehicules_par_an.png'.</s>\n```"
          },
          "metadata": {}
        },
        {
          "output_type": "display_data",
          "data": {
            "text/plain": [
              "<IPython.core.display.Markdown object>"
            ],
            "text/markdown": "### 🎯 Réponse Attendue :"
          },
          "metadata": {}
        },
        {
          "output_type": "display_data",
          "data": {
            "text/plain": [
              "<IPython.core.display.Markdown object>"
            ],
            "text/markdown": "```text\nLe graphique des ventes du Groupe Renault devrait montrer approximativement : 2020 : ~2,95M ; 2021 : ~2,70M ; 2022 : ~2,05M ; 2023 : ~2,24M véhicules. L'agent doit confirmer la génération du fichier graphique.\n```"
          },
          "metadata": {}
        },
        {
          "output_type": "display_data",
          "data": {
            "text/plain": [
              "<IPython.core.display.Markdown object>"
            ],
            "text/markdown": "**📝 Évaluation qualitative :\n- L'agent semble avoir correctement généré ou tenté de générer le graphique.**"
          },
          "metadata": {}
        },
        {
          "output_type": "display_data",
          "data": {
            "text/plain": [
              "<IPython.core.display.Markdown object>"
            ],
            "text/markdown": "---"
          },
          "metadata": {}
        },
        {
          "output_type": "display_data",
          "data": {
            "text/plain": [
              "<IPython.core.display.Markdown object>"
            ],
            "text/markdown": "## ❓ Q6 : Crée un graphique qui compare le cours de l'action Renault les jours d'annonce des résultats depuis 2020 avec la performance globale du CAC40 pendant la même période. Réponds en français."
          },
          "metadata": {}
        },
        {
          "output_type": "display_data",
          "data": {
            "text/plain": [
              "<IPython.core.display.Markdown object>"
            ],
            "text/markdown": "### ✅ Réponse de l'Agent:"
          },
          "metadata": {}
        },
        {
          "output_type": "display_data",
          "data": {
            "text/plain": [
              "<IPython.core.display.Markdown object>"
            ],
            "text/markdown": "```text\nLe graphique comparatif du cours de l'action Renault et de la performance du CAC40 les jours d'annonce de résultats depuis 2020 est disponible sous le nom 'renault_vs_cac40_annonces.png'. Les données sont normalisées à 100 au premier jour d'annonce.</s>\n```"
          },
          "metadata": {}
        },
        {
          "output_type": "display_data",
          "data": {
            "text/plain": [
              "<IPython.core.display.Markdown object>"
            ],
            "text/markdown": "### 🎯 Réponse Attendue :"
          },
          "metadata": {}
        },
        {
          "output_type": "display_data",
          "data": {
            "text/plain": [
              "<IPython.core.display.Markdown object>"
            ],
            "text/markdown": "```text\nLe graphique comparant RNO.PA et CAC40 aux dates d'annonce des résultats annuels (ex: pour résultats 2020: ~18/02/2021; 2021: ~17/02/2022; 2022: ~15/02/2023; 2023: ~14/02/2024) doit être généré. L'agent doit confirmer la génération du fichier.\n```"
          },
          "metadata": {}
        },
        {
          "output_type": "display_data",
          "data": {
            "text/plain": [
              "<IPython.core.display.Markdown object>"
            ],
            "text/markdown": "**📝 Évaluation qualitative :\n- L'agent semble avoir correctement généré ou tenté de générer le graphique.**"
          },
          "metadata": {}
        },
        {
          "output_type": "display_data",
          "data": {
            "text/plain": [
              "<IPython.core.display.Markdown object>"
            ],
            "text/markdown": "---"
          },
          "metadata": {}
        },
        {
          "output_type": "display_data",
          "data": {
            "text/plain": [
              "<IPython.core.display.Markdown object>"
            ],
            "text/markdown": "## ❓ Q7 : Analyse la corrélation entre les ventes annuelles de véhicules de Renault et le cours de son action, spécifiquement les jours d'annonce des résultats, depuis 2020. Réponds en français."
          },
          "metadata": {}
        },
        {
          "output_type": "display_data",
          "data": {
            "text/plain": [
              "<IPython.core.display.Markdown object>"
            ],
            "text/markdown": "### ✅ Réponse de l'Agent:"
          },
          "metadata": {}
        },
        {
          "output_type": "display_data",
          "data": {
            "text/plain": [
              "<IPython.core.display.Markdown object>"
            ],
            "text/markdown": "```text\nLes ventes annuelles de véhicules de Renault depuis 2020 sont de 2 951 971 unités en 2020 et 3 021 710 unités en 2021. Les dates d'annonce des résultats depuis 2020 sont le 19 février 2020, le 18 février 2021, le 17 février 2022, le 16 février 2023 et le 15 février 2024.</s>\n```"
          },
          "metadata": {}
        },
        {
          "output_type": "display_data",
          "data": {
            "text/plain": [
              "<IPython.core.display.Markdown object>"
            ],
            "text/markdown": "### 🎯 Réponse Attendue :"
          },
          "metadata": {}
        },
        {
          "output_type": "display_data",
          "data": {
            "text/plain": [
              "<IPython.core.display.Markdown object>"
            ],
            "text/markdown": "```text\nL'analyse devrait montrer une corrélation négative forte (environ -0.78) entre les ventes annuelles du Groupe Renault (2020-2023) et le cours de l'action RNO.PA aux jours d'annonce des résultats correspondants, suggérant que d'autres facteurs (rentabilité, stratégie) ont plus pesé sur le cours que les volumes durant cette période.\n```"
          },
          "metadata": {}
        },
        {
          "output_type": "display_data",
          "data": {
            "text/plain": [
              "<IPython.core.display.Markdown object>"
            ],
            "text/markdown": "**📝 Évaluation qualitative :\n- La réponse pour la corrélation semble incomplète ou manquante.**"
          },
          "metadata": {}
        },
        {
          "output_type": "display_data",
          "data": {
            "text/plain": [
              "<IPython.core.display.Markdown object>"
            ],
            "text/markdown": "---"
          },
          "metadata": {}
        },
        {
          "output_type": "display_data",
          "data": {
            "text/plain": [
              "<IPython.core.display.Markdown object>"
            ],
            "text/markdown": "## ❓ Q8 : Quels sont les indicateurs DPEF de Renault pour l'année 2023 ? Réponds en français."
          },
          "metadata": {}
        },
        {
          "output_type": "display_data",
          "data": {
            "text/plain": [
              "<IPython.core.display.Markdown object>"
            ],
            "text/markdown": "### ✅ Réponse de l'Agent:"
          },
          "metadata": {}
        },
        {
          "output_type": "display_data",
          "data": {
            "text/plain": [
              "<IPython.core.display.Markdown object>"
            ],
            "text/markdown": "```text\nLes indicateurs DPEF de Renault pour l'année 2023 comprennent la disponibilité sur demande des analyses de cycle de vie (ACV) de certains modèles de véhicules, l'audit annuel de 100% des sites de fabrication et des principaux sites tertiaires et logistiques de Renault Group sur l'environnement et la prévention des risques, et la certification ISO 14001 de 100% des sites de production.</s>\n```"
          },
          "metadata": {}
        },
        {
          "output_type": "display_data",
          "data": {
            "text/plain": [
              "<IPython.core.display.Markdown object>"
            ],
            "text/markdown": "### 🎯 Réponse Attendue :"
          },
          "metadata": {}
        },
        {
          "output_type": "display_data",
          "data": {
            "text/plain": [
              "<IPython.core.display.Markdown object>"
            ],
            "text/markdown": "```text\nPour 2023, les indicateurs DPEF clés de Renault Group incluent : Émissions CO2 usines (scope 1+2) : ~612 kt ; Émissions CO2 véhicules vendus (Europe) : ~99,1 g/km ; Part d'électricité renouvelable (sites indus.) : ~37% ; Taux de fréquence des accidents du travail (TF1) : ~1.66 ; Part de femmes dans l'effectif total : ~25,1%.\n```"
          },
          "metadata": {}
        },
        {
          "output_type": "display_data",
          "data": {
            "text/plain": [
              "<IPython.core.display.Markdown object>"
            ],
            "text/markdown": "**📝 Évaluation qualitative :**"
          },
          "metadata": {}
        },
        {
          "output_type": "display_data",
          "data": {
            "text/plain": [
              "<IPython.core.display.Markdown object>"
            ],
            "text/markdown": "---"
          },
          "metadata": {}
        },
        {
          "output_type": "display_data",
          "data": {
            "text/plain": [
              "<IPython.core.display.Markdown object>"
            ],
            "text/markdown": "## ❓ Q9 : Résume les progrès du plan Renaulution depuis 2021. Réponds en français."
          },
          "metadata": {}
        },
        {
          "output_type": "display_data",
          "data": {
            "text/plain": [
              "<IPython.core.display.Markdown object>"
            ],
            "text/markdown": "### ✅ Réponse de l'Agent:"
          },
          "metadata": {}
        },
        {
          "output_type": "display_data",
          "data": {
            "text/plain": [
              "<IPython.core.display.Markdown object>"
            ],
            "text/markdown": "```text\nLe plan Renaulution est un plan stratégique de transformation de l'entreprise mis en place par M. Luca de Meo en janvier 2021. Il vise à transformer le Groupe pour bénéficier des opportunités de la mutation du secteur. La première phase, \"Résurrection\", a été achevée avec 3 ans d'avance et a porté ses fruits avec des résultats en 2022 au-dessus des objectifs initiaux et des attentes du marché. Le plan vise à accélérer l'efficacité des fonctions, renforcer l'efficacité et la performance de l'ingénierie et de la production, orienter la présence internationale du Groupe vers les marchés à fortes marges, et atteindre la neutralité carbone en Europe d'ici 2050.</s>\n```"
          },
          "metadata": {}
        },
        {
          "output_type": "display_data",
          "data": {
            "text/plain": [
              "<IPython.core.display.Markdown object>"
            ],
            "text/markdown": "### 🎯 Réponse Attendue :"
          },
          "metadata": {}
        },
        {
          "output_type": "display_data",
          "data": {
            "text/plain": [
              "<IPython.core.display.Markdown object>"
            ],
            "text/markdown": "```text\nDepuis 2021, le plan Renaulution a permis un redressement significatif : Phase Résurrection (2021-2022) achevée en avance (marge op. 5,6% en 2022, FCF 2,1 Mds€). 2023 (Rénovation/Révolution) : marge op. record 7,9%, FCF 3 Mds€, réorganisation en 5 business units. Focus sur valeur, rentabilité, électrification et nouvelles mobilités.\n```"
          },
          "metadata": {}
        },
        {
          "output_type": "display_data",
          "data": {
            "text/plain": [
              "<IPython.core.display.Markdown object>"
            ],
            "text/markdown": "**📝 Évaluation qualitative :**"
          },
          "metadata": {}
        },
        {
          "output_type": "display_data",
          "data": {
            "text/plain": [
              "<IPython.core.display.Markdown object>"
            ],
            "text/markdown": "---"
          },
          "metadata": {}
        }
      ]
    },
    {
      "cell_type": "code",
      "source": [],
      "metadata": {
        "id": "Sfy4Cte-XaM2"
      },
      "execution_count": null,
      "outputs": []
    }
  ]
}